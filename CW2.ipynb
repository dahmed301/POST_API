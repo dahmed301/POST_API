{
  "nbformat": 4,
  "nbformat_minor": 0,
  "metadata": {
    "colab": {
      "provenance": [],
      "authorship_tag": "ABX9TyMLD9LEkhOraU5TujfBBk1n",
      "include_colab_link": true
    },
    "kernelspec": {
      "name": "python3",
      "display_name": "Python 3"
    },
    "language_info": {
      "name": "python"
    }
  },
  "cells": [
    {
      "cell_type": "markdown",
      "metadata": {
        "id": "view-in-github",
        "colab_type": "text"
      },
      "source": [
        "<a href=\"https://colab.research.google.com/github/dahmed301/POST_API/blob/main/CW2.ipynb\" target=\"_parent\"><img src=\"https://colab.research.google.com/assets/colab-badge.svg\" alt=\"Open In Colab\"/></a>"
      ]
    },
    {
      "cell_type": "markdown",
      "source": [
        "#**TELCO CUSTOMER CHURN DATASET: Exploratory Data Analysis & Classification using several Machine Learning Algorithms**"
      ],
      "metadata": {
        "id": "Fgx3lnm8XYkP"
      }
    },
    {
      "cell_type": "markdown",
      "source": [
        "##**Objective**\n",
        "This notebook investigates the Telco Customer Churn dataset which was originally published on the IBM Community. The objective is to perform EDA on the dataset and define a Machine Learning task with the use of Classification algorithms, to build models and evaluate their performances against relevant metrics."
      ],
      "metadata": {
        "id": "RTqPx5MjZGXb"
      }
    },
    {
      "cell_type": "markdown",
      "source": [
        "##**Introduction**\n",
        "Customer churn, according to Amaresan (2021), is the percentage of customers who stop using a company's product or service during a given time frame. This time frame can be a fiscal quarter or a year, depending upon the type of business. Ideally, companies and businesses want to always retain their customers, which refers to a 0% churn rate, but that is not always the case. However, looking at customer data for a particular service or product is a good way to find out why customers tend to leave and how these factors can be used to predict whether current customers leave or stay. It can also help in identifying areas of improvement for the company to retain more customers and even attract new ones.\n",
        "\n",
        "The Telco Customer Churn dataset contains information about a fictional telecom company in California, USA that provides internet and phone services to almost 7000 customers in a certain time frame. The dataset story is listed below:\n",
        "\n",
        "* CustomerId: Customer ID\n",
        "* Gender: Gender\n",
        "  SeniorCitizen: Whether the customer is a senior citizen (1, 0)\n",
        "* Partner: Whether the client has a partner (Yes, No) - Indicates if the customer is married or not\n",
        "* Dependents: Whether the client has dependents (Yes, No) - Indicates if the customer has children, parents, grandparents, etc.\n",
        "* Tenure: Number of months the customer has stayed with the company\n",
        "* PhoneService: Whether the customer uses phone service (Yes, No)\n",
        "* MultipleLines: Whether the customer has more than one line (Yes, No, No phone service)\n",
        "* InternetService: The type of internet service used by Customer (DSL, Fiber optic, No)\n",
        "* OnlineSecurity: Whether the customer has online security (Yes, No, No Internet service)\n",
        "* OnlineBackup: Whether the customer has online backup (Yes, No, No Internet service)\n",
        "* DeviceProtection: Whether the customer has device protection (Yes, No, No Internet service)\n",
        "* TechSupport: Whether the customer receives technical support (Yes, No, No Internet service)\n",
        "* StreamingTV: Indicates whether the customer has streaming TV (Yes, No, No Internet service)\n",
        "* StreamingMovies: Whether the customer has streaming movies (Yes, No, No Internet service)\n",
        "* Contract: Duration of the customer's contract (Month to month, One year, Two years)\n",
        "* PaperlessBilling: Whether the customer receives a paperless bill (Yes, No)\n",
        "* PaymentMethod: Customer's payment method (Electronic check, Postal check, Bank transfer, Credit card)\n",
        "* MonthlyCharges: Amount charged to the customer monthly\n",
        "* TotalCharges: Total amount charged to the customer\n",
        "* Churn: Whether the customer left (Yes or No)"
      ],
      "metadata": {
        "id": "wCKIrqYwtN4e"
      }
    },
    {
      "cell_type": "markdown",
      "source": [
        "##**Machine Learning Task**\n",
        "Machine Learning is a branch of Artificial Intelligence (AI) which uses statistical methods to train algorithms. Brown (2021) states that Machine Learning (ML) systems can be descriptive (what happened), predictive (what will happen) or prescriptive (what action to take). There are two types of learning models: supervised & unsupervised. Supervised learning models are trained on labelled data and can be used to make predictions while unsupervised models find patterns in unlabelled data (Brown, 2021).\n",
        "\n",
        "Classification is a supervised machine learning task that is used to assign and predict class labels (Brownlee, 2020). Given a dataset, an algorithm is trained to build a model which is then used to predict categorical data (class labels). Brownlee (2020) claims that classification tasks can be of different types such binary, multilabel or multiclass etc.\n",
        "\n",
        "\n",
        "**Problem Definition:**\n",
        "\n",
        "For our dataset, we want to predict customer churn for existing and new customers, which is a binary class label. Therefore, our Machine Learning task is a Binary Classification problem which predicts whether a customer stays or leaves the company based on predictor variables.\n",
        "\n",
        "**Methodology:**\n",
        "\n",
        "To achieve this, various classifier algorithms will be trained and tested using the variables explained above. The notebook elaborates the steps taken to ingest, clean, transform and pre-process the data before splitting it into training and testing sets. These sets are then used to build the required classification models and test their validity and accuracy in predicting the target variable (customer churn). Based on these performance metrics, the best model is selected, and its hyper-parameters are tuned to improve the accuracy of prediction. Once this model is trained, tested, and validated, it is then ready to be used on new data to predict the customer churn with a certain level of accuracy. So, let’s get started!\n"
      ],
      "metadata": {
        "id": "6Qivge8StNjx"
      }
    },
    {
      "cell_type": "markdown",
      "source": [
        "##**Importing Libraries & Data Ingestion**\n",
        "First of all, let's import the necessary libraries and packages which will be used throughout the notebook for different purposes, as commented in the code below."
      ],
      "metadata": {
        "id": "MvPSuc7MttfW"
      }
    },
    {
      "cell_type": "code",
      "execution_count": null,
      "metadata": {
        "id": "xL4ALQ9IM0db"
      },
      "outputs": [],
      "source": [
        "#Importing Libraries\n",
        "\n",
        "##For data cleaning & pre-processing\n",
        "import numpy as np\n",
        "import pandas as pd\n",
        "from sklearn.preprocessing import LabelEncoder\n",
        "from sklearn.model_selection import train_test_split\n",
        "from sklearn.model_selection import GridSearchCV, cross_validate\n",
        "\n",
        "##For data visualisations\n",
        "import matplotlib.pyplot as plt\n",
        "import seaborn as sns\n",
        "from sklearn.tree import plot_tree\n",
        "import plotly.express as px\n",
        "import plotly.graph_objects as go\n",
        "from plotly.subplots import make_subplots\n",
        "\n",
        "##For ML algorithms\n",
        "from sklearn.linear_model import LogisticRegression\n",
        "from sklearn.neighbors import KNeighborsClassifier\n",
        "from sklearn.tree import DecisionTreeClassifier\n",
        "from sklearn.ensemble import RandomForestClassifier\n",
        "from sklearn.naive_bayes import GaussianNB\n",
        "from sklearn.svm import SVC\n",
        "\n",
        "##For model evaluation\n",
        "from sklearn.metrics import accuracy_score\n",
        "from sklearn.metrics import classification_report\n",
        "from sklearn.metrics import confusion_matrix"
      ]
    },
    {
      "cell_type": "markdown",
      "source": [
        "Our dataset is provided to us in a .csv file format. This file is stored on the Google Drive which needs to be mounted in order to connect it to this notebook. This will allow us to import the data easily."
      ],
      "metadata": {
        "id": "PnprfmhRuKtm"
      }
    },
    {
      "cell_type": "code",
      "source": [
        "from google.colab import drive\n",
        "drive.mount('/content/drive')"
      ],
      "metadata": {
        "colab": {
          "base_uri": "https://localhost:8080/"
        },
        "id": "AneIdSJQO43P",
        "outputId": "89154ae4-3a3e-4955-a517-5ab838621afc"
      },
      "execution_count": null,
      "outputs": [
        {
          "output_type": "stream",
          "name": "stdout",
          "text": [
            "Drive already mounted at /content/drive; to attempt to forcibly remount, call drive.mount(\"/content/drive\", force_remount=True).\n"
          ]
        }
      ]
    },
    {
      "cell_type": "markdown",
      "source": [
        "Now we can import our data using pandas read_csv method and providing the drive path. This data is saved to a pandas DataFrame named df."
      ],
      "metadata": {
        "id": "u_wid8Bau4pw"
      }
    },
    {
      "cell_type": "code",
      "source": [
        "df = pd.read_csv('/content/drive/MyDrive/Telco-Customer-Churn.csv')"
      ],
      "metadata": {
        "id": "qzFuMPYOO94O"
      },
      "execution_count": null,
      "outputs": []
    },
    {
      "cell_type": "markdown",
      "source": [
        "Let's have a look at the first five rows of the dataframe."
      ],
      "metadata": {
        "id": "fIoZcBuVvPaG"
      }
    },
    {
      "cell_type": "code",
      "source": [
        "df.head()"
      ],
      "metadata": {
        "colab": {
          "base_uri": "https://localhost:8080/",
          "height": 342
        },
        "id": "DgjWtHGVPeXw",
        "outputId": "75887c2b-4122-48a9-c978-04f926d59665"
      },
      "execution_count": null,
      "outputs": [
        {
          "output_type": "execute_result",
          "data": {
            "text/plain": [
              "   customerID  gender  SeniorCitizen Partner Dependents  tenure PhoneService  \\\n",
              "0  7590-VHVEG  Female              0     Yes         No       1           No   \n",
              "1  5575-GNVDE    Male              0      No         No      34          Yes   \n",
              "2  3668-QPYBK    Male              0      No         No       2          Yes   \n",
              "3  7795-CFOCW    Male              0      No         No      45           No   \n",
              "4  9237-HQITU  Female              0      No         No       2          Yes   \n",
              "\n",
              "      MultipleLines InternetService OnlineSecurity  ... DeviceProtection  \\\n",
              "0  No phone service             DSL             No  ...               No   \n",
              "1                No             DSL            Yes  ...              Yes   \n",
              "2                No             DSL            Yes  ...               No   \n",
              "3  No phone service             DSL            Yes  ...              Yes   \n",
              "4                No     Fiber optic             No  ...               No   \n",
              "\n",
              "  TechSupport StreamingTV StreamingMovies        Contract PaperlessBilling  \\\n",
              "0          No          No              No  Month-to-month              Yes   \n",
              "1          No          No              No        One year               No   \n",
              "2          No          No              No  Month-to-month              Yes   \n",
              "3         Yes          No              No        One year               No   \n",
              "4          No          No              No  Month-to-month              Yes   \n",
              "\n",
              "               PaymentMethod MonthlyCharges  TotalCharges Churn  \n",
              "0           Electronic check          29.85         29.85    No  \n",
              "1               Mailed check          56.95        1889.5    No  \n",
              "2               Mailed check          53.85        108.15   Yes  \n",
              "3  Bank transfer (automatic)          42.30       1840.75    No  \n",
              "4           Electronic check          70.70        151.65   Yes  \n",
              "\n",
              "[5 rows x 21 columns]"
            ],
            "text/html": [
              "\n",
              "  <div id=\"df-ac9f1106-816b-4734-9147-5af427dbd640\" class=\"colab-df-container\">\n",
              "    <div>\n",
              "<style scoped>\n",
              "    .dataframe tbody tr th:only-of-type {\n",
              "        vertical-align: middle;\n",
              "    }\n",
              "\n",
              "    .dataframe tbody tr th {\n",
              "        vertical-align: top;\n",
              "    }\n",
              "\n",
              "    .dataframe thead th {\n",
              "        text-align: right;\n",
              "    }\n",
              "</style>\n",
              "<table border=\"1\" class=\"dataframe\">\n",
              "  <thead>\n",
              "    <tr style=\"text-align: right;\">\n",
              "      <th></th>\n",
              "      <th>customerID</th>\n",
              "      <th>gender</th>\n",
              "      <th>SeniorCitizen</th>\n",
              "      <th>Partner</th>\n",
              "      <th>Dependents</th>\n",
              "      <th>tenure</th>\n",
              "      <th>PhoneService</th>\n",
              "      <th>MultipleLines</th>\n",
              "      <th>InternetService</th>\n",
              "      <th>OnlineSecurity</th>\n",
              "      <th>...</th>\n",
              "      <th>DeviceProtection</th>\n",
              "      <th>TechSupport</th>\n",
              "      <th>StreamingTV</th>\n",
              "      <th>StreamingMovies</th>\n",
              "      <th>Contract</th>\n",
              "      <th>PaperlessBilling</th>\n",
              "      <th>PaymentMethod</th>\n",
              "      <th>MonthlyCharges</th>\n",
              "      <th>TotalCharges</th>\n",
              "      <th>Churn</th>\n",
              "    </tr>\n",
              "  </thead>\n",
              "  <tbody>\n",
              "    <tr>\n",
              "      <th>0</th>\n",
              "      <td>7590-VHVEG</td>\n",
              "      <td>Female</td>\n",
              "      <td>0</td>\n",
              "      <td>Yes</td>\n",
              "      <td>No</td>\n",
              "      <td>1</td>\n",
              "      <td>No</td>\n",
              "      <td>No phone service</td>\n",
              "      <td>DSL</td>\n",
              "      <td>No</td>\n",
              "      <td>...</td>\n",
              "      <td>No</td>\n",
              "      <td>No</td>\n",
              "      <td>No</td>\n",
              "      <td>No</td>\n",
              "      <td>Month-to-month</td>\n",
              "      <td>Yes</td>\n",
              "      <td>Electronic check</td>\n",
              "      <td>29.85</td>\n",
              "      <td>29.85</td>\n",
              "      <td>No</td>\n",
              "    </tr>\n",
              "    <tr>\n",
              "      <th>1</th>\n",
              "      <td>5575-GNVDE</td>\n",
              "      <td>Male</td>\n",
              "      <td>0</td>\n",
              "      <td>No</td>\n",
              "      <td>No</td>\n",
              "      <td>34</td>\n",
              "      <td>Yes</td>\n",
              "      <td>No</td>\n",
              "      <td>DSL</td>\n",
              "      <td>Yes</td>\n",
              "      <td>...</td>\n",
              "      <td>Yes</td>\n",
              "      <td>No</td>\n",
              "      <td>No</td>\n",
              "      <td>No</td>\n",
              "      <td>One year</td>\n",
              "      <td>No</td>\n",
              "      <td>Mailed check</td>\n",
              "      <td>56.95</td>\n",
              "      <td>1889.5</td>\n",
              "      <td>No</td>\n",
              "    </tr>\n",
              "    <tr>\n",
              "      <th>2</th>\n",
              "      <td>3668-QPYBK</td>\n",
              "      <td>Male</td>\n",
              "      <td>0</td>\n",
              "      <td>No</td>\n",
              "      <td>No</td>\n",
              "      <td>2</td>\n",
              "      <td>Yes</td>\n",
              "      <td>No</td>\n",
              "      <td>DSL</td>\n",
              "      <td>Yes</td>\n",
              "      <td>...</td>\n",
              "      <td>No</td>\n",
              "      <td>No</td>\n",
              "      <td>No</td>\n",
              "      <td>No</td>\n",
              "      <td>Month-to-month</td>\n",
              "      <td>Yes</td>\n",
              "      <td>Mailed check</td>\n",
              "      <td>53.85</td>\n",
              "      <td>108.15</td>\n",
              "      <td>Yes</td>\n",
              "    </tr>\n",
              "    <tr>\n",
              "      <th>3</th>\n",
              "      <td>7795-CFOCW</td>\n",
              "      <td>Male</td>\n",
              "      <td>0</td>\n",
              "      <td>No</td>\n",
              "      <td>No</td>\n",
              "      <td>45</td>\n",
              "      <td>No</td>\n",
              "      <td>No phone service</td>\n",
              "      <td>DSL</td>\n",
              "      <td>Yes</td>\n",
              "      <td>...</td>\n",
              "      <td>Yes</td>\n",
              "      <td>Yes</td>\n",
              "      <td>No</td>\n",
              "      <td>No</td>\n",
              "      <td>One year</td>\n",
              "      <td>No</td>\n",
              "      <td>Bank transfer (automatic)</td>\n",
              "      <td>42.30</td>\n",
              "      <td>1840.75</td>\n",
              "      <td>No</td>\n",
              "    </tr>\n",
              "    <tr>\n",
              "      <th>4</th>\n",
              "      <td>9237-HQITU</td>\n",
              "      <td>Female</td>\n",
              "      <td>0</td>\n",
              "      <td>No</td>\n",
              "      <td>No</td>\n",
              "      <td>2</td>\n",
              "      <td>Yes</td>\n",
              "      <td>No</td>\n",
              "      <td>Fiber optic</td>\n",
              "      <td>No</td>\n",
              "      <td>...</td>\n",
              "      <td>No</td>\n",
              "      <td>No</td>\n",
              "      <td>No</td>\n",
              "      <td>No</td>\n",
              "      <td>Month-to-month</td>\n",
              "      <td>Yes</td>\n",
              "      <td>Electronic check</td>\n",
              "      <td>70.70</td>\n",
              "      <td>151.65</td>\n",
              "      <td>Yes</td>\n",
              "    </tr>\n",
              "  </tbody>\n",
              "</table>\n",
              "<p>5 rows × 21 columns</p>\n",
              "</div>\n",
              "    <div class=\"colab-df-buttons\">\n",
              "\n",
              "  <div class=\"colab-df-container\">\n",
              "    <button class=\"colab-df-convert\" onclick=\"convertToInteractive('df-ac9f1106-816b-4734-9147-5af427dbd640')\"\n",
              "            title=\"Convert this dataframe to an interactive table.\"\n",
              "            style=\"display:none;\">\n",
              "\n",
              "  <svg xmlns=\"http://www.w3.org/2000/svg\" height=\"24px\" viewBox=\"0 -960 960 960\">\n",
              "    <path d=\"M120-120v-720h720v720H120Zm60-500h600v-160H180v160Zm220 220h160v-160H400v160Zm0 220h160v-160H400v160ZM180-400h160v-160H180v160Zm440 0h160v-160H620v160ZM180-180h160v-160H180v160Zm440 0h160v-160H620v160Z\"/>\n",
              "  </svg>\n",
              "    </button>\n",
              "\n",
              "  <style>\n",
              "    .colab-df-container {\n",
              "      display:flex;\n",
              "      gap: 12px;\n",
              "    }\n",
              "\n",
              "    .colab-df-convert {\n",
              "      background-color: #E8F0FE;\n",
              "      border: none;\n",
              "      border-radius: 50%;\n",
              "      cursor: pointer;\n",
              "      display: none;\n",
              "      fill: #1967D2;\n",
              "      height: 32px;\n",
              "      padding: 0 0 0 0;\n",
              "      width: 32px;\n",
              "    }\n",
              "\n",
              "    .colab-df-convert:hover {\n",
              "      background-color: #E2EBFA;\n",
              "      box-shadow: 0px 1px 2px rgba(60, 64, 67, 0.3), 0px 1px 3px 1px rgba(60, 64, 67, 0.15);\n",
              "      fill: #174EA6;\n",
              "    }\n",
              "\n",
              "    .colab-df-buttons div {\n",
              "      margin-bottom: 4px;\n",
              "    }\n",
              "\n",
              "    [theme=dark] .colab-df-convert {\n",
              "      background-color: #3B4455;\n",
              "      fill: #D2E3FC;\n",
              "    }\n",
              "\n",
              "    [theme=dark] .colab-df-convert:hover {\n",
              "      background-color: #434B5C;\n",
              "      box-shadow: 0px 1px 3px 1px rgba(0, 0, 0, 0.15);\n",
              "      filter: drop-shadow(0px 1px 2px rgba(0, 0, 0, 0.3));\n",
              "      fill: #FFFFFF;\n",
              "    }\n",
              "  </style>\n",
              "\n",
              "    <script>\n",
              "      const buttonEl =\n",
              "        document.querySelector('#df-ac9f1106-816b-4734-9147-5af427dbd640 button.colab-df-convert');\n",
              "      buttonEl.style.display =\n",
              "        google.colab.kernel.accessAllowed ? 'block' : 'none';\n",
              "\n",
              "      async function convertToInteractive(key) {\n",
              "        const element = document.querySelector('#df-ac9f1106-816b-4734-9147-5af427dbd640');\n",
              "        const dataTable =\n",
              "          await google.colab.kernel.invokeFunction('convertToInteractive',\n",
              "                                                    [key], {});\n",
              "        if (!dataTable) return;\n",
              "\n",
              "        const docLinkHtml = 'Like what you see? Visit the ' +\n",
              "          '<a target=\"_blank\" href=https://colab.research.google.com/notebooks/data_table.ipynb>data table notebook</a>'\n",
              "          + ' to learn more about interactive tables.';\n",
              "        element.innerHTML = '';\n",
              "        dataTable['output_type'] = 'display_data';\n",
              "        await google.colab.output.renderOutput(dataTable, element);\n",
              "        const docLink = document.createElement('div');\n",
              "        docLink.innerHTML = docLinkHtml;\n",
              "        element.appendChild(docLink);\n",
              "      }\n",
              "    </script>\n",
              "  </div>\n",
              "\n",
              "\n",
              "<div id=\"df-63ba5759-32d5-4db3-9daa-8428ebb3de28\">\n",
              "  <button class=\"colab-df-quickchart\" onclick=\"quickchart('df-63ba5759-32d5-4db3-9daa-8428ebb3de28')\"\n",
              "            title=\"Suggest charts\"\n",
              "            style=\"display:none;\">\n",
              "\n",
              "<svg xmlns=\"http://www.w3.org/2000/svg\" height=\"24px\"viewBox=\"0 0 24 24\"\n",
              "     width=\"24px\">\n",
              "    <g>\n",
              "        <path d=\"M19 3H5c-1.1 0-2 .9-2 2v14c0 1.1.9 2 2 2h14c1.1 0 2-.9 2-2V5c0-1.1-.9-2-2-2zM9 17H7v-7h2v7zm4 0h-2V7h2v10zm4 0h-2v-4h2v4z\"/>\n",
              "    </g>\n",
              "</svg>\n",
              "  </button>\n",
              "\n",
              "<style>\n",
              "  .colab-df-quickchart {\n",
              "      --bg-color: #E8F0FE;\n",
              "      --fill-color: #1967D2;\n",
              "      --hover-bg-color: #E2EBFA;\n",
              "      --hover-fill-color: #174EA6;\n",
              "      --disabled-fill-color: #AAA;\n",
              "      --disabled-bg-color: #DDD;\n",
              "  }\n",
              "\n",
              "  [theme=dark] .colab-df-quickchart {\n",
              "      --bg-color: #3B4455;\n",
              "      --fill-color: #D2E3FC;\n",
              "      --hover-bg-color: #434B5C;\n",
              "      --hover-fill-color: #FFFFFF;\n",
              "      --disabled-bg-color: #3B4455;\n",
              "      --disabled-fill-color: #666;\n",
              "  }\n",
              "\n",
              "  .colab-df-quickchart {\n",
              "    background-color: var(--bg-color);\n",
              "    border: none;\n",
              "    border-radius: 50%;\n",
              "    cursor: pointer;\n",
              "    display: none;\n",
              "    fill: var(--fill-color);\n",
              "    height: 32px;\n",
              "    padding: 0;\n",
              "    width: 32px;\n",
              "  }\n",
              "\n",
              "  .colab-df-quickchart:hover {\n",
              "    background-color: var(--hover-bg-color);\n",
              "    box-shadow: 0 1px 2px rgba(60, 64, 67, 0.3), 0 1px 3px 1px rgba(60, 64, 67, 0.15);\n",
              "    fill: var(--button-hover-fill-color);\n",
              "  }\n",
              "\n",
              "  .colab-df-quickchart-complete:disabled,\n",
              "  .colab-df-quickchart-complete:disabled:hover {\n",
              "    background-color: var(--disabled-bg-color);\n",
              "    fill: var(--disabled-fill-color);\n",
              "    box-shadow: none;\n",
              "  }\n",
              "\n",
              "  .colab-df-spinner {\n",
              "    border: 2px solid var(--fill-color);\n",
              "    border-color: transparent;\n",
              "    border-bottom-color: var(--fill-color);\n",
              "    animation:\n",
              "      spin 1s steps(1) infinite;\n",
              "  }\n",
              "\n",
              "  @keyframes spin {\n",
              "    0% {\n",
              "      border-color: transparent;\n",
              "      border-bottom-color: var(--fill-color);\n",
              "      border-left-color: var(--fill-color);\n",
              "    }\n",
              "    20% {\n",
              "      border-color: transparent;\n",
              "      border-left-color: var(--fill-color);\n",
              "      border-top-color: var(--fill-color);\n",
              "    }\n",
              "    30% {\n",
              "      border-color: transparent;\n",
              "      border-left-color: var(--fill-color);\n",
              "      border-top-color: var(--fill-color);\n",
              "      border-right-color: var(--fill-color);\n",
              "    }\n",
              "    40% {\n",
              "      border-color: transparent;\n",
              "      border-right-color: var(--fill-color);\n",
              "      border-top-color: var(--fill-color);\n",
              "    }\n",
              "    60% {\n",
              "      border-color: transparent;\n",
              "      border-right-color: var(--fill-color);\n",
              "    }\n",
              "    80% {\n",
              "      border-color: transparent;\n",
              "      border-right-color: var(--fill-color);\n",
              "      border-bottom-color: var(--fill-color);\n",
              "    }\n",
              "    90% {\n",
              "      border-color: transparent;\n",
              "      border-bottom-color: var(--fill-color);\n",
              "    }\n",
              "  }\n",
              "</style>\n",
              "\n",
              "  <script>\n",
              "    async function quickchart(key) {\n",
              "      const quickchartButtonEl =\n",
              "        document.querySelector('#' + key + ' button');\n",
              "      quickchartButtonEl.disabled = true;  // To prevent multiple clicks.\n",
              "      quickchartButtonEl.classList.add('colab-df-spinner');\n",
              "      try {\n",
              "        const charts = await google.colab.kernel.invokeFunction(\n",
              "            'suggestCharts', [key], {});\n",
              "      } catch (error) {\n",
              "        console.error('Error during call to suggestCharts:', error);\n",
              "      }\n",
              "      quickchartButtonEl.classList.remove('colab-df-spinner');\n",
              "      quickchartButtonEl.classList.add('colab-df-quickchart-complete');\n",
              "    }\n",
              "    (() => {\n",
              "      let quickchartButtonEl =\n",
              "        document.querySelector('#df-63ba5759-32d5-4db3-9daa-8428ebb3de28 button');\n",
              "      quickchartButtonEl.style.display =\n",
              "        google.colab.kernel.accessAllowed ? 'block' : 'none';\n",
              "    })();\n",
              "  </script>\n",
              "</div>\n",
              "    </div>\n",
              "  </div>\n"
            ]
          },
          "metadata": {},
          "execution_count": 54
        }
      ]
    },
    {
      "cell_type": "markdown",
      "source": [
        "We can observe that our dataframe is neatly organised as rows and columns where each rows is an observation (sample) and each columns is a variable (feature).\n",
        "\n",
        "It is also important to know the dimensions of our dataframe."
      ],
      "metadata": {
        "id": "ZEJwQJdcvVac"
      }
    },
    {
      "cell_type": "code",
      "source": [
        "print('Number of rows: ', df.shape[0])\n",
        "print('Number of columns: ', df.shape[1])"
      ],
      "metadata": {
        "colab": {
          "base_uri": "https://localhost:8080/"
        },
        "id": "Ff1vghA1Pec4",
        "outputId": "ce6cdc9f-0178-4c5e-c75a-19b77f959dab"
      },
      "execution_count": null,
      "outputs": [
        {
          "output_type": "stream",
          "name": "stdout",
          "text": [
            "Number of rows:  7043\n",
            "Number of columns:  21\n"
          ]
        }
      ]
    },
    {
      "cell_type": "markdown",
      "source": [
        "Next we will have a look at the columns in the data and their data types."
      ],
      "metadata": {
        "id": "Gmf3nQbkvhrh"
      }
    },
    {
      "cell_type": "code",
      "source": [
        "df.info()"
      ],
      "metadata": {
        "colab": {
          "base_uri": "https://localhost:8080/"
        },
        "id": "RFdHmIQePejE",
        "outputId": "991aa157-fbff-4166-a92b-ce4a2180129d"
      },
      "execution_count": null,
      "outputs": [
        {
          "output_type": "stream",
          "name": "stdout",
          "text": [
            "<class 'pandas.core.frame.DataFrame'>\n",
            "RangeIndex: 7043 entries, 0 to 7042\n",
            "Data columns (total 21 columns):\n",
            " #   Column            Non-Null Count  Dtype  \n",
            "---  ------            --------------  -----  \n",
            " 0   customerID        7043 non-null   object \n",
            " 1   gender            7043 non-null   object \n",
            " 2   SeniorCitizen     7043 non-null   int64  \n",
            " 3   Partner           7043 non-null   object \n",
            " 4   Dependents        7043 non-null   object \n",
            " 5   tenure            7043 non-null   int64  \n",
            " 6   PhoneService      7043 non-null   object \n",
            " 7   MultipleLines     7043 non-null   object \n",
            " 8   InternetService   7043 non-null   object \n",
            " 9   OnlineSecurity    7043 non-null   object \n",
            " 10  OnlineBackup      7043 non-null   object \n",
            " 11  DeviceProtection  7043 non-null   object \n",
            " 12  TechSupport       7043 non-null   object \n",
            " 13  StreamingTV       7043 non-null   object \n",
            " 14  StreamingMovies   7043 non-null   object \n",
            " 15  Contract          7043 non-null   object \n",
            " 16  PaperlessBilling  7043 non-null   object \n",
            " 17  PaymentMethod     7043 non-null   object \n",
            " 18  MonthlyCharges    7043 non-null   float64\n",
            " 19  TotalCharges      7043 non-null   object \n",
            " 20  Churn             7043 non-null   object \n",
            "dtypes: float64(1), int64(2), object(18)\n",
            "memory usage: 1.1+ MB\n"
          ]
        }
      ]
    },
    {
      "cell_type": "markdown",
      "source": [
        "We can see that some columns are numerical (2 integer and 1 float) while the rest of the 18 columns are categorical. This is very common with such a dataset which contains data related to customers, services and products.\n",
        "\n",
        "However, we can notice that the variable \"TotalCharges\" is shown as categorical whereas it should be a numerical variable. We can convert it to numerical by changing its data type."
      ],
      "metadata": {
        "id": "7-ckvKDWvrka"
      }
    },
    {
      "cell_type": "code",
      "source": [
        "#Converting Total Charges to a numerical variable\n",
        "df[\"TotalCharges\"] = pd.to_numeric(df[\"TotalCharges\"], errors='coerce')"
      ],
      "metadata": {
        "id": "iN3GgTGoPeoY"
      },
      "execution_count": null,
      "outputs": []
    },
    {
      "cell_type": "markdown",
      "source": [
        "Let's check the data type of \"TotalCharges\" again to make sure it has been changed."
      ],
      "metadata": {
        "id": "VzzhE02Cy4ZR"
      }
    },
    {
      "cell_type": "code",
      "source": [
        "#Making sure that the variable type has changed\n",
        "df['TotalCharges'].dtype"
      ],
      "metadata": {
        "colab": {
          "base_uri": "https://localhost:8080/"
        },
        "id": "04OLbooSPet1",
        "outputId": "2e8c0684-a290-4abe-af96-2619e248cd29"
      },
      "execution_count": null,
      "outputs": [
        {
          "output_type": "execute_result",
          "data": {
            "text/plain": [
              "dtype('float64')"
            ]
          },
          "metadata": {},
          "execution_count": 58
        }
      ]
    },
    {
      "cell_type": "markdown",
      "source": [
        "##**Handling Missing Values, Duplicates & Outliers**\n",
        "One of the first step in the data cleaning process is to check for missing values, duplicates and outliers in our data which can alter the results of any visual or model-based analysis as we dive deeper.\n",
        "\n",
        "Let's see if our variables have any missing values."
      ],
      "metadata": {
        "id": "dOsC8enIzEKE"
      }
    },
    {
      "cell_type": "code",
      "source": [
        "#Number of missing values in each column\n",
        "df.isnull().sum()"
      ],
      "metadata": {
        "colab": {
          "base_uri": "https://localhost:8080/"
        },
        "id": "7kxYv74BPezg",
        "outputId": "af17f5a6-6931-4979-fb18-9cd345e905b2"
      },
      "execution_count": null,
      "outputs": [
        {
          "output_type": "execute_result",
          "data": {
            "text/plain": [
              "customerID           0\n",
              "gender               0\n",
              "SeniorCitizen        0\n",
              "Partner              0\n",
              "Dependents           0\n",
              "tenure               0\n",
              "PhoneService         0\n",
              "MultipleLines        0\n",
              "InternetService      0\n",
              "OnlineSecurity       0\n",
              "OnlineBackup         0\n",
              "DeviceProtection     0\n",
              "TechSupport          0\n",
              "StreamingTV          0\n",
              "StreamingMovies      0\n",
              "Contract             0\n",
              "PaperlessBilling     0\n",
              "PaymentMethod        0\n",
              "MonthlyCharges       0\n",
              "TotalCharges        11\n",
              "Churn                0\n",
              "dtype: int64"
            ]
          },
          "metadata": {},
          "execution_count": 59
        }
      ]
    },
    {
      "cell_type": "markdown",
      "source": [
        "As expected, there are 11 missing values in the \"TotalCharges\" column. There are several ways to deal with missing values such as replacing them with mean values of that variable. But in this case, it is decided that the rows containing these missing values will be entirely removed from the data because 'TotalCharges' has a very high magnitude as compared to other numerical variables. Filling these values with unknown estimated values can affect the perfromance of the classification model as it can generate a misleading bias. So, even though it is a loss of valuable data, removing them is a safer option."
      ],
      "metadata": {
        "id": "ePIjZWYJz5u_"
      }
    },
    {
      "cell_type": "code",
      "source": [
        "#Dropping missing values\n",
        "df = df.dropna()\n",
        "\n",
        "#Checking missing values again to confirm\n",
        "df.isnull().sum()"
      ],
      "metadata": {
        "id": "9DObkzKYPe41",
        "colab": {
          "base_uri": "https://localhost:8080/"
        },
        "outputId": "5a0565d5-9f24-49b4-b6ed-7296dd123977"
      },
      "execution_count": null,
      "outputs": [
        {
          "output_type": "execute_result",
          "data": {
            "text/plain": [
              "customerID          0\n",
              "gender              0\n",
              "SeniorCitizen       0\n",
              "Partner             0\n",
              "Dependents          0\n",
              "tenure              0\n",
              "PhoneService        0\n",
              "MultipleLines       0\n",
              "InternetService     0\n",
              "OnlineSecurity      0\n",
              "OnlineBackup        0\n",
              "DeviceProtection    0\n",
              "TechSupport         0\n",
              "StreamingTV         0\n",
              "StreamingMovies     0\n",
              "Contract            0\n",
              "PaperlessBilling    0\n",
              "PaymentMethod       0\n",
              "MonthlyCharges      0\n",
              "TotalCharges        0\n",
              "Churn               0\n",
              "dtype: int64"
            ]
          },
          "metadata": {},
          "execution_count": 60
        }
      ]
    },
    {
      "cell_type": "markdown",
      "source": [
        "Now we can check for any duplicate values in our data. Since Customer ID is the unique variable, we can use that to see if there are any repeated rows."
      ],
      "metadata": {
        "id": "Od5zNjWd2BHD"
      }
    },
    {
      "cell_type": "code",
      "source": [
        "#Getting duplicate values from the dataframe\n",
        "duplicates = df['customerID'].duplicated()\n",
        "\n",
        "#Checking how many duplicate values\n",
        "print('Number of duplicate values: ', len(df[duplicates]))"
      ],
      "metadata": {
        "colab": {
          "base_uri": "https://localhost:8080/"
        },
        "id": "4ClM-Hb54tZZ",
        "outputId": "f175f684-7ab6-42a2-ae76-35069b228d3e"
      },
      "execution_count": null,
      "outputs": [
        {
          "output_type": "stream",
          "name": "stdout",
          "text": [
            "Number of duplicate values:  0\n"
          ]
        }
      ]
    },
    {
      "cell_type": "markdown",
      "source": [
        "Great news! There are no duplicate values. That's one less thing to worry about."
      ],
      "metadata": {
        "id": "sMyiHqr02qB6"
      }
    },
    {
      "cell_type": "markdown",
      "source": [
        "##**Investigating Variables/Features**\n",
        "In order to effectively select and implement a classification model, we need to understand our variables throughly and how they behave with respect to the target variable i.e. customer churn. This section performs a brief data analysis using some statistics and visualisations to explore the variables."
      ],
      "metadata": {
        "id": "KakXh6CThAyx"
      }
    },
    {
      "cell_type": "markdown",
      "source": [
        "As discussed earlier, there are 4 numerical variables in the data. Let's have a look at some descriptive statistics of these variables to investigate any outliers."
      ],
      "metadata": {
        "id": "tnUJcs2EiR8C"
      }
    },
    {
      "cell_type": "code",
      "source": [
        "#Descriptive stats of numerical variables\n",
        "df.describe().transpose()"
      ],
      "metadata": {
        "colab": {
          "base_uri": "https://localhost:8080/",
          "height": 175
        },
        "id": "sENjVQBI7DhH",
        "outputId": "0a15997d-d443-43e4-a542-5023e42029c2"
      },
      "execution_count": null,
      "outputs": [
        {
          "output_type": "execute_result",
          "data": {
            "text/plain": [
              "                 count         mean          std    min       25%       50%  \\\n",
              "SeniorCitizen   7032.0     0.162400     0.368844   0.00    0.0000     0.000   \n",
              "tenure          7032.0    32.421786    24.545260   1.00    9.0000    29.000   \n",
              "MonthlyCharges  7032.0    64.798208    30.085974  18.25   35.5875    70.350   \n",
              "TotalCharges    7032.0  2283.300441  2266.771362  18.80  401.4500  1397.475   \n",
              "\n",
              "                      75%      max  \n",
              "SeniorCitizen      0.0000     1.00  \n",
              "tenure            55.0000    72.00  \n",
              "MonthlyCharges    89.8625   118.75  \n",
              "TotalCharges    3794.7375  8684.80  "
            ],
            "text/html": [
              "\n",
              "  <div id=\"df-8aa7ead6-9184-4f44-a10e-5d6868c31e12\" class=\"colab-df-container\">\n",
              "    <div>\n",
              "<style scoped>\n",
              "    .dataframe tbody tr th:only-of-type {\n",
              "        vertical-align: middle;\n",
              "    }\n",
              "\n",
              "    .dataframe tbody tr th {\n",
              "        vertical-align: top;\n",
              "    }\n",
              "\n",
              "    .dataframe thead th {\n",
              "        text-align: right;\n",
              "    }\n",
              "</style>\n",
              "<table border=\"1\" class=\"dataframe\">\n",
              "  <thead>\n",
              "    <tr style=\"text-align: right;\">\n",
              "      <th></th>\n",
              "      <th>count</th>\n",
              "      <th>mean</th>\n",
              "      <th>std</th>\n",
              "      <th>min</th>\n",
              "      <th>25%</th>\n",
              "      <th>50%</th>\n",
              "      <th>75%</th>\n",
              "      <th>max</th>\n",
              "    </tr>\n",
              "  </thead>\n",
              "  <tbody>\n",
              "    <tr>\n",
              "      <th>SeniorCitizen</th>\n",
              "      <td>7032.0</td>\n",
              "      <td>0.162400</td>\n",
              "      <td>0.368844</td>\n",
              "      <td>0.00</td>\n",
              "      <td>0.0000</td>\n",
              "      <td>0.000</td>\n",
              "      <td>0.0000</td>\n",
              "      <td>1.00</td>\n",
              "    </tr>\n",
              "    <tr>\n",
              "      <th>tenure</th>\n",
              "      <td>7032.0</td>\n",
              "      <td>32.421786</td>\n",
              "      <td>24.545260</td>\n",
              "      <td>1.00</td>\n",
              "      <td>9.0000</td>\n",
              "      <td>29.000</td>\n",
              "      <td>55.0000</td>\n",
              "      <td>72.00</td>\n",
              "    </tr>\n",
              "    <tr>\n",
              "      <th>MonthlyCharges</th>\n",
              "      <td>7032.0</td>\n",
              "      <td>64.798208</td>\n",
              "      <td>30.085974</td>\n",
              "      <td>18.25</td>\n",
              "      <td>35.5875</td>\n",
              "      <td>70.350</td>\n",
              "      <td>89.8625</td>\n",
              "      <td>118.75</td>\n",
              "    </tr>\n",
              "    <tr>\n",
              "      <th>TotalCharges</th>\n",
              "      <td>7032.0</td>\n",
              "      <td>2283.300441</td>\n",
              "      <td>2266.771362</td>\n",
              "      <td>18.80</td>\n",
              "      <td>401.4500</td>\n",
              "      <td>1397.475</td>\n",
              "      <td>3794.7375</td>\n",
              "      <td>8684.80</td>\n",
              "    </tr>\n",
              "  </tbody>\n",
              "</table>\n",
              "</div>\n",
              "    <div class=\"colab-df-buttons\">\n",
              "\n",
              "  <div class=\"colab-df-container\">\n",
              "    <button class=\"colab-df-convert\" onclick=\"convertToInteractive('df-8aa7ead6-9184-4f44-a10e-5d6868c31e12')\"\n",
              "            title=\"Convert this dataframe to an interactive table.\"\n",
              "            style=\"display:none;\">\n",
              "\n",
              "  <svg xmlns=\"http://www.w3.org/2000/svg\" height=\"24px\" viewBox=\"0 -960 960 960\">\n",
              "    <path d=\"M120-120v-720h720v720H120Zm60-500h600v-160H180v160Zm220 220h160v-160H400v160Zm0 220h160v-160H400v160ZM180-400h160v-160H180v160Zm440 0h160v-160H620v160ZM180-180h160v-160H180v160Zm440 0h160v-160H620v160Z\"/>\n",
              "  </svg>\n",
              "    </button>\n",
              "\n",
              "  <style>\n",
              "    .colab-df-container {\n",
              "      display:flex;\n",
              "      gap: 12px;\n",
              "    }\n",
              "\n",
              "    .colab-df-convert {\n",
              "      background-color: #E8F0FE;\n",
              "      border: none;\n",
              "      border-radius: 50%;\n",
              "      cursor: pointer;\n",
              "      display: none;\n",
              "      fill: #1967D2;\n",
              "      height: 32px;\n",
              "      padding: 0 0 0 0;\n",
              "      width: 32px;\n",
              "    }\n",
              "\n",
              "    .colab-df-convert:hover {\n",
              "      background-color: #E2EBFA;\n",
              "      box-shadow: 0px 1px 2px rgba(60, 64, 67, 0.3), 0px 1px 3px 1px rgba(60, 64, 67, 0.15);\n",
              "      fill: #174EA6;\n",
              "    }\n",
              "\n",
              "    .colab-df-buttons div {\n",
              "      margin-bottom: 4px;\n",
              "    }\n",
              "\n",
              "    [theme=dark] .colab-df-convert {\n",
              "      background-color: #3B4455;\n",
              "      fill: #D2E3FC;\n",
              "    }\n",
              "\n",
              "    [theme=dark] .colab-df-convert:hover {\n",
              "      background-color: #434B5C;\n",
              "      box-shadow: 0px 1px 3px 1px rgba(0, 0, 0, 0.15);\n",
              "      filter: drop-shadow(0px 1px 2px rgba(0, 0, 0, 0.3));\n",
              "      fill: #FFFFFF;\n",
              "    }\n",
              "  </style>\n",
              "\n",
              "    <script>\n",
              "      const buttonEl =\n",
              "        document.querySelector('#df-8aa7ead6-9184-4f44-a10e-5d6868c31e12 button.colab-df-convert');\n",
              "      buttonEl.style.display =\n",
              "        google.colab.kernel.accessAllowed ? 'block' : 'none';\n",
              "\n",
              "      async function convertToInteractive(key) {\n",
              "        const element = document.querySelector('#df-8aa7ead6-9184-4f44-a10e-5d6868c31e12');\n",
              "        const dataTable =\n",
              "          await google.colab.kernel.invokeFunction('convertToInteractive',\n",
              "                                                    [key], {});\n",
              "        if (!dataTable) return;\n",
              "\n",
              "        const docLinkHtml = 'Like what you see? Visit the ' +\n",
              "          '<a target=\"_blank\" href=https://colab.research.google.com/notebooks/data_table.ipynb>data table notebook</a>'\n",
              "          + ' to learn more about interactive tables.';\n",
              "        element.innerHTML = '';\n",
              "        dataTable['output_type'] = 'display_data';\n",
              "        await google.colab.output.renderOutput(dataTable, element);\n",
              "        const docLink = document.createElement('div');\n",
              "        docLink.innerHTML = docLinkHtml;\n",
              "        element.appendChild(docLink);\n",
              "      }\n",
              "    </script>\n",
              "  </div>\n",
              "\n",
              "\n",
              "<div id=\"df-f5a67d3c-787c-4d92-86e2-9bc64da53c17\">\n",
              "  <button class=\"colab-df-quickchart\" onclick=\"quickchart('df-f5a67d3c-787c-4d92-86e2-9bc64da53c17')\"\n",
              "            title=\"Suggest charts\"\n",
              "            style=\"display:none;\">\n",
              "\n",
              "<svg xmlns=\"http://www.w3.org/2000/svg\" height=\"24px\"viewBox=\"0 0 24 24\"\n",
              "     width=\"24px\">\n",
              "    <g>\n",
              "        <path d=\"M19 3H5c-1.1 0-2 .9-2 2v14c0 1.1.9 2 2 2h14c1.1 0 2-.9 2-2V5c0-1.1-.9-2-2-2zM9 17H7v-7h2v7zm4 0h-2V7h2v10zm4 0h-2v-4h2v4z\"/>\n",
              "    </g>\n",
              "</svg>\n",
              "  </button>\n",
              "\n",
              "<style>\n",
              "  .colab-df-quickchart {\n",
              "      --bg-color: #E8F0FE;\n",
              "      --fill-color: #1967D2;\n",
              "      --hover-bg-color: #E2EBFA;\n",
              "      --hover-fill-color: #174EA6;\n",
              "      --disabled-fill-color: #AAA;\n",
              "      --disabled-bg-color: #DDD;\n",
              "  }\n",
              "\n",
              "  [theme=dark] .colab-df-quickchart {\n",
              "      --bg-color: #3B4455;\n",
              "      --fill-color: #D2E3FC;\n",
              "      --hover-bg-color: #434B5C;\n",
              "      --hover-fill-color: #FFFFFF;\n",
              "      --disabled-bg-color: #3B4455;\n",
              "      --disabled-fill-color: #666;\n",
              "  }\n",
              "\n",
              "  .colab-df-quickchart {\n",
              "    background-color: var(--bg-color);\n",
              "    border: none;\n",
              "    border-radius: 50%;\n",
              "    cursor: pointer;\n",
              "    display: none;\n",
              "    fill: var(--fill-color);\n",
              "    height: 32px;\n",
              "    padding: 0;\n",
              "    width: 32px;\n",
              "  }\n",
              "\n",
              "  .colab-df-quickchart:hover {\n",
              "    background-color: var(--hover-bg-color);\n",
              "    box-shadow: 0 1px 2px rgba(60, 64, 67, 0.3), 0 1px 3px 1px rgba(60, 64, 67, 0.15);\n",
              "    fill: var(--button-hover-fill-color);\n",
              "  }\n",
              "\n",
              "  .colab-df-quickchart-complete:disabled,\n",
              "  .colab-df-quickchart-complete:disabled:hover {\n",
              "    background-color: var(--disabled-bg-color);\n",
              "    fill: var(--disabled-fill-color);\n",
              "    box-shadow: none;\n",
              "  }\n",
              "\n",
              "  .colab-df-spinner {\n",
              "    border: 2px solid var(--fill-color);\n",
              "    border-color: transparent;\n",
              "    border-bottom-color: var(--fill-color);\n",
              "    animation:\n",
              "      spin 1s steps(1) infinite;\n",
              "  }\n",
              "\n",
              "  @keyframes spin {\n",
              "    0% {\n",
              "      border-color: transparent;\n",
              "      border-bottom-color: var(--fill-color);\n",
              "      border-left-color: var(--fill-color);\n",
              "    }\n",
              "    20% {\n",
              "      border-color: transparent;\n",
              "      border-left-color: var(--fill-color);\n",
              "      border-top-color: var(--fill-color);\n",
              "    }\n",
              "    30% {\n",
              "      border-color: transparent;\n",
              "      border-left-color: var(--fill-color);\n",
              "      border-top-color: var(--fill-color);\n",
              "      border-right-color: var(--fill-color);\n",
              "    }\n",
              "    40% {\n",
              "      border-color: transparent;\n",
              "      border-right-color: var(--fill-color);\n",
              "      border-top-color: var(--fill-color);\n",
              "    }\n",
              "    60% {\n",
              "      border-color: transparent;\n",
              "      border-right-color: var(--fill-color);\n",
              "    }\n",
              "    80% {\n",
              "      border-color: transparent;\n",
              "      border-right-color: var(--fill-color);\n",
              "      border-bottom-color: var(--fill-color);\n",
              "    }\n",
              "    90% {\n",
              "      border-color: transparent;\n",
              "      border-bottom-color: var(--fill-color);\n",
              "    }\n",
              "  }\n",
              "</style>\n",
              "\n",
              "  <script>\n",
              "    async function quickchart(key) {\n",
              "      const quickchartButtonEl =\n",
              "        document.querySelector('#' + key + ' button');\n",
              "      quickchartButtonEl.disabled = true;  // To prevent multiple clicks.\n",
              "      quickchartButtonEl.classList.add('colab-df-spinner');\n",
              "      try {\n",
              "        const charts = await google.colab.kernel.invokeFunction(\n",
              "            'suggestCharts', [key], {});\n",
              "      } catch (error) {\n",
              "        console.error('Error during call to suggestCharts:', error);\n",
              "      }\n",
              "      quickchartButtonEl.classList.remove('colab-df-spinner');\n",
              "      quickchartButtonEl.classList.add('colab-df-quickchart-complete');\n",
              "    }\n",
              "    (() => {\n",
              "      let quickchartButtonEl =\n",
              "        document.querySelector('#df-f5a67d3c-787c-4d92-86e2-9bc64da53c17 button');\n",
              "      quickchartButtonEl.style.display =\n",
              "        google.colab.kernel.accessAllowed ? 'block' : 'none';\n",
              "    })();\n",
              "  </script>\n",
              "</div>\n",
              "    </div>\n",
              "  </div>\n"
            ]
          },
          "metadata": {},
          "execution_count": 62
        }
      ]
    },
    {
      "cell_type": "markdown",
      "source": [
        "As observed, the SeniorCitizen variable has a range of 0 to 1, which tells that this is also a categorical variable in the boolean form. But we do not need convert it to True/Flase because we need 0s and 1s to train the ML algorithm. In fact, all the rest of the categorical variables will also be converted to integers using label encoding, but that comes later.\n",
        "\n",
        "Apart from that, the three main continuous variables seem to have a reasonable spread having mean values relatively close to the 50th percentile (median) values.\n",
        "\n",
        "* The average monthly charges of the customers are around \\$65 and varies between \\$18 to \\$118\n",
        "* On average, the customers stay with the company for around around 32 months (over 2.5 years)\n",
        "* The average amount of total charges paid by the customers is around \\$2300 but half of all the customers have paid less than \\$1400. This suggests that there are few customers who have paid a large sum, probably because they have stayed longer with the company.\n",
        "\n",
        "Let's create some boxplots to visualise their spread."
      ],
      "metadata": {
        "id": "b_MqScEqkPVV"
      }
    },
    {
      "cell_type": "code",
      "source": [
        "columns_for_boxplots = ['tenure','MonthlyCharges','TotalCharges']\n",
        "\n",
        "#Set up subplots\n",
        "fig, axes = plt.subplots(nrows=1, ncols=3, figsize=(8, 4))\n",
        "\n",
        "# Iterate through columns and create boxplots\n",
        "for col, ax in zip(columns_for_boxplots, axes):\n",
        "    sns.boxplot(df[col], ax=ax, boxprops=dict(facecolor='teal'), showfliers=False)\n",
        "    ax.set_title(f'{col}')\n",
        "\n",
        "# Adjust layout\n",
        "plt.tight_layout()\n",
        "\n",
        "# Display the plot\n",
        "plt.show()"
      ],
      "metadata": {
        "colab": {
          "base_uri": "https://localhost:8080/",
          "height": 407
        },
        "id": "HPsyfdDQ4t_s",
        "outputId": "02bf8c3d-45f0-4f79-9671-7a55032da2c8"
      },
      "execution_count": null,
      "outputs": [
        {
          "output_type": "display_data",
          "data": {
            "text/plain": [
              "<Figure size 800x400 with 3 Axes>"
            ],
            "image/png": "[encoded data removed]"
          },
          "metadata": {}
        }
      ]
    },
    {
      "cell_type": "markdown",
      "source": [
        "By looking at the boxplots we reach the same conclusions that the distribution of Total Charges is positively skewed (right-skewed) having a large portion of values towards the smaller end. This can be confirmed by histogram as well."
      ],
      "metadata": {
        "id": "SOuhRkHyv_YM"
      }
    },
    {
      "cell_type": "code",
      "source": [
        "# Columns for histograms\n",
        "columns_for_histograms = ['tenure', 'MonthlyCharges', 'TotalCharges']\n",
        "\n",
        "# Set up subplots\n",
        "fig, axes = plt.subplots(nrows=1, ncols=3, figsize=(15, 5))\n",
        "\n",
        "# Iterate through columns and create histograms\n",
        "for col, ax in zip(columns_for_histograms, axes):\n",
        "    sns.histplot(df[col], color='teal', kde=False, ax=ax)\n",
        "    ax.set_title(f'Histogram for {col}')\n",
        "\n",
        "# Adjust layout\n",
        "plt.tight_layout()\n",
        "\n",
        "# Display the plot\n",
        "plt.show()"
      ],
      "metadata": {
        "colab": {
          "base_uri": "https://localhost:8080/",
          "height": 507
        },
        "id": "bvWPWxxRC2If",
        "outputId": "5b8ae72b-da03-42e3-963f-89f1846da194"
      },
      "execution_count": null,
      "outputs": [
        {
          "output_type": "display_data",
          "data": {
            "text/plain": [
              "<Figure size 1500x500 with 3 Axes>"
            ],
            "image/png": "[encoded data removed]"
          },
          "metadata": {}
        }
      ]
    },
    {
      "cell_type": "markdown",
      "source": [
        "The histogram confirm that Total Charges has a positive skew. That means most of the customers pay a smaller sum in total while few of them pay more. However, there are no outlier in any of the numerical variables that need to be removed.\n",
        "\n",
        "We can also conclude the following:\n",
        "* There a lot of new customers who have only been with the company for less than 6 months. This includes current new customers as well as those who left in the first 6 months. There is also a good number of loyal customers who have been there for almost 6 years.\n",
        "* A large number of customers are using the most basic package which has the least monthly charges. They might only be using one service from the company, hence lower cost."
      ],
      "metadata": {
        "id": "JbbePVUwerPU"
      }
    },
    {
      "cell_type": "code",
      "source": [
        "churn_boxplots = ['tenure','MonthlyCharges','TotalCharges']\n",
        "\n",
        "#Set up subplots\n",
        "fig, axes = plt.subplots(nrows=1, ncols=3, figsize=(10, 4))\n",
        "\n",
        "# Iterate through columns and create boxplots\n",
        "for col,ax in zip(churn_boxplots,axes):\n",
        "    sns.boxplot(x='Churn', y=col, data=df, ax=ax, palette={'No': 'teal', 'Yes': 'red'})\n",
        "    ax.set_title(col)\n",
        "    plt.xlabel('Churn')\n",
        "\n",
        "\n",
        "# Adjust layout\n",
        "plt.tight_layout()\n",
        "\n",
        "# Display the plot\n",
        "plt.show()"
      ],
      "metadata": {
        "colab": {
          "base_uri": "https://localhost:8080/",
          "height": 407
        },
        "id": "x6W7j4nOogXp",
        "outputId": "6c155696-b7f5-402d-e944-97429eea6a2e"
      },
      "execution_count": null,
      "outputs": [
        {
          "output_type": "display_data",
          "data": {
            "text/plain": [
              "<Figure size 1000x400 with 3 Axes>"
            ],
            "image/png": "[encoded data removed]"
          },
          "metadata": {}
        }
      ]
    },
    {
      "cell_type": "markdown",
      "source": [
        "The figure above illustrates the relationship of our numerical variables with the Churn variable. We can observe that the customers who are relatievly new with the company and pay higher monthly charges are more likely to leave/churn. For the Total Charges variable, it is somewhat inferable that since customers who leave, don't tend to stay long, hence their total charges are lower than staying customers."
      ],
      "metadata": {
        "id": "Zzn5BBpfyrtE"
      }
    },
    {
      "cell_type": "markdown",
      "source": [
        "Next, we will have a look at the general distribution of our most important variable - Customer Churn. Beacuse it is a binary variable, based on Yes or No values, it is feasible to create a pie chart for understanding the ratio of customers who leave and stay."
      ],
      "metadata": {
        "id": "MtJ77ujb1g9H"
      }
    },
    {
      "cell_type": "code",
      "source": [
        "# Distribution of Customer Churn\n",
        "\n",
        "# Data to plot\n",
        "labels = df['Churn'].value_counts().index.to_list()\n",
        "sizes = df['Churn'].value_counts()\n",
        "\n",
        "# Colors\n",
        "colors = ['teal', '#ed533b', 'white']\n",
        "\n",
        "# Plot\n",
        "plt.figure(figsize=(5,5))\n",
        "patches, texts, autotexts = plt.pie(sizes, colors = colors, autopct='%1.1f%%', startangle=90, labels=labels)\n",
        "\n",
        "for text, autotext in zip(texts, autotexts):\n",
        "    text.set_fontsize(16)\n",
        "    autotext.set_fontsize(16)\n",
        "\n",
        "plt.title('Distribution of Churn', fontsize=16)\n",
        "plt.axis('equal')  # Equal aspect ratio ensures that pie is drawn as a circle.\n",
        "plt.show()\n"
      ],
      "metadata": {
        "colab": {
          "base_uri": "https://localhost:8080/",
          "height": 446
        },
        "id": "sJOyF6IDW4IY",
        "outputId": "9f7328f7-d08e-4870-8cfb-966ab82d3fc3"
      },
      "execution_count": null,
      "outputs": [
        {
          "output_type": "display_data",
          "data": {
            "text/plain": [
              "<Figure size 500x500 with 1 Axes>"
            ],
            "image/png": "[encoded data removed]"
          },
          "metadata": {}
        }
      ]
    },
    {
      "cell_type": "markdown",
      "source": [
        "If we just analyse the churn distribution, it seems that only a quarter of the customers have left the company while three-quarters have stayed. This is not a bad figure. But depending on the sensitivty of the business, companies like to have recurring customers. It would be ideal if the churn percentage was under 10% or even less."
      ],
      "metadata": {
        "id": "HyIXbDSH3Bj2"
      }
    },
    {
      "cell_type": "markdown",
      "source": [
        "Now let's have a look at the categorical variables and how they react with the churn variable. The following pie charts and bar charts display data pertaining to custmers who have left and what were the services they used, their contract types and payment methods."
      ],
      "metadata": {
        "id": "eIdAGQfC4o0Z"
      }
    },
    {
      "cell_type": "code",
      "source": [
        "# Categorical columns\n",
        "categorical_columns = ['PhoneService', 'InternetService',\n",
        "                       'Contract', 'PaymentMethod']\n",
        "\n",
        "# Set up subplots\n",
        "fig, axes = plt.subplots(nrows=2, ncols=2, figsize=(10, 6))\n",
        "#fig.subplots_adjust(hspace=0.3, wspace=0.5)\n",
        "\n",
        "# Iterate through categorical columns and create pie charts for 'Churn' == 'Yes'\n",
        "for col, ax in zip(categorical_columns, axes.flatten()):\n",
        "    # Data for 'Churn' == 'Yes'\n",
        "    churn_yes_data = df[df['Churn'] == 'Yes'][col].value_counts()\n",
        "\n",
        "    # Plotting pie chart\n",
        "    ax.pie(churn_yes_data, labels=churn_yes_data.index,\n",
        "           autopct='%1.1f%%', startangle=90,colors=['teal','#ed533b','goldenrod','skyblue'])\n",
        "    ax.set_title(col)\n",
        "\n",
        "\n",
        "# Display the plot\n",
        "plt.show()\n"
      ],
      "metadata": {
        "colab": {
          "base_uri": "https://localhost:8080/",
          "height": 521
        },
        "id": "LAKyz-7SmBql",
        "outputId": "8980851e-610d-48d0-bb81-93833cba3e4b"
      },
      "execution_count": null,
      "outputs": [
        {
          "output_type": "display_data",
          "data": {
            "text/plain": [
              "<Figure size 1000x600 with 4 Axes>"
            ],
            "image/png": "[encoded data removed]"
          },
          "metadata": {}
        }
      ]
    },
    {
      "cell_type": "markdown",
      "source": [
        "Out of those customers who left:\n",
        "* 91% were using phone service and 94% were using some type of internet service which means most of them were using both internet & phone\n",
        "* Around 89% were on a monthly contract, which made it easier for them to leave the company\n",
        "* More than half of them were paying through electronic check, and around a quarter of them paid through automatic methods (card or bank transfer)"
      ],
      "metadata": {
        "id": "mXnL_W85KUOq"
      }
    },
    {
      "cell_type": "markdown",
      "source": [
        "Now we will look at some additional internet services used or not used by customer who have left."
      ],
      "metadata": {
        "id": "KBYVkloC_K56"
      }
    },
    {
      "cell_type": "code",
      "source": [
        "bar_columns = ['OnlineSecurity', 'OnlineBackup',\n",
        "               'DeviceProtection', 'TechSupport', 'StreamingTV', 'StreamingMovies']\n",
        "# Set up subplots\n",
        "fig, axes = plt.subplots(nrows=2, ncols=3, figsize=(12, 8))\n",
        "\n",
        "# Flatten the axes array for easier iteration\n",
        "axes = axes.flatten()\n",
        "\n",
        "# Iterate through categorical columns and create bar plots\n",
        "for i, col in enumerate(bar_columns):\n",
        "    sns.countplot(x='Churn', hue=col,\n",
        "                  data=df[(df['Churn']==\"Yes\") &    #filter df where churn is yes\n",
        "                   (df['InternetService']!=\"No\")],  #and internet service is not No\n",
        "                  ax=axes[i], palette={'No': '#ed533b', 'Yes': 'teal','No internet service':'goldenrod'})\n",
        "    axes[i].set_title(col)  # Set subplot title\n",
        "    axes[i].set_ylabel('')  # Remove y-axis labels\n",
        "    axes[i].set_xlabel('')  # Remove x-axis labels\n",
        "    axes[i].set_xticks([])  #Remove x axis\n",
        "\n",
        "# Adjust layout\n",
        "plt.tight_layout()\n",
        "\n",
        "# Display the plot\n",
        "plt.show()\n"
      ],
      "metadata": {
        "colab": {
          "base_uri": "https://localhost:8080/",
          "height": 807
        },
        "id": "QQRfvNRXBD4U",
        "outputId": "e5dbd544-2d8d-40be-bfa4-cc1d974e5799"
      },
      "execution_count": null,
      "outputs": [
        {
          "output_type": "display_data",
          "data": {
            "text/plain": [
              "<Figure size 1200x800 with 6 Axes>"
            ],
            "image/png": "[encoded data removed]"
          },
          "metadata": {}
        }
      ]
    },
    {
      "cell_type": "markdown",
      "source": [
        "The red bar is quite large in all plots. Therefore, it is convenient to say that most of the customers who left were not usually using any of the additional internet backup or support services. However a good number of them were streaming TV & movies from third-party providers. This might mean that they had found a better offer from other providers."
      ],
      "metadata": {
        "id": "gEA66HiXP73m"
      }
    },
    {
      "cell_type": "markdown",
      "source": [
        "##**Data Preparation & Feature Selection**\n",
        "\n",
        "Now that we have a good idea of our variables and their relationship with the target variable, we can move forward with data preparation for training and building models so that our data is understandable by the model.\n",
        "\n",
        "First we will create a copy of our data so that any changes we make from this point onward do not affect the original data. Then we can drop unecessary columns which are not useful for modelling.'Customer ID' is not a variable of interest which can be dropped from our data."
      ],
      "metadata": {
        "id": "Na8C0AeyRjN7"
      }
    },
    {
      "cell_type": "code",
      "source": [
        "#Creating a copy of our original dataframe\n",
        "data = df.copy()\n",
        "\n",
        "#Dropping unwanted columns\n",
        "data.drop(['customerID'], axis=1,inplace=True)"
      ],
      "metadata": {
        "id": "zSFdJeQK4tzu"
      },
      "execution_count": null,
      "outputs": []
    },
    {
      "cell_type": "markdown",
      "source": [
        "Next, we need to convert all the features into numerical data types. The classification algorithms only digest numerical data for training and predicting. This can be done using label encoding. Most of our features are categorical except a few.\n",
        "\n",
        "Let's have a look at the number of unique values in each feature."
      ],
      "metadata": {
        "id": "h0YqlSZX71XG"
      }
    },
    {
      "cell_type": "code",
      "source": [
        "data.nunique()"
      ],
      "metadata": {
        "colab": {
          "base_uri": "https://localhost:8080/"
        },
        "id": "OeXinIk2338R",
        "outputId": "fce75ebe-2919-4e4d-dd51-381919c7918f"
      },
      "execution_count": null,
      "outputs": [
        {
          "output_type": "execute_result",
          "data": {
            "text/plain": [
              "gender                 2\n",
              "SeniorCitizen          2\n",
              "Partner                2\n",
              "Dependents             2\n",
              "tenure                72\n",
              "PhoneService           2\n",
              "MultipleLines          3\n",
              "InternetService        3\n",
              "OnlineSecurity         3\n",
              "OnlineBackup           3\n",
              "DeviceProtection       3\n",
              "TechSupport            3\n",
              "StreamingTV            3\n",
              "StreamingMovies        3\n",
              "Contract               3\n",
              "PaperlessBilling       2\n",
              "PaymentMethod          4\n",
              "MonthlyCharges      1584\n",
              "TotalCharges        6530\n",
              "Churn                  2\n",
              "dtype: int64"
            ]
          },
          "metadata": {},
          "execution_count": 70
        }
      ]
    },
    {
      "cell_type": "markdown",
      "source": [
        "Apart from the numerical variables (tenure, total charges and monthly charges), all the rest are categorical variables with 2,3 or 4 unique values, as seen above.\n",
        "\n",
        "First we will manually binarise our target feature (churn) beacuse we want to assign known values for future reference."
      ],
      "metadata": {
        "id": "Vlyz0ore5Uwx"
      }
    },
    {
      "cell_type": "code",
      "source": [
        "#Binarise the target variable\n",
        "data[\"Churn\"] = data[\"Churn\"].apply(lambda x : 1 if x == \"Yes\" else 0)"
      ],
      "metadata": {
        "id": "ww0h_q0q9N8C"
      },
      "execution_count": null,
      "outputs": []
    },
    {
      "cell_type": "markdown",
      "source": [
        "Here we have binarised our customer churn variable - a value of 1 has been assigned to 'Yes' while 0 is assigned to 'No'.\n",
        "\n",
        "Next we can use Label encoding to similarly assign values of 0,1,2 and 3 to all the categories in our features. Then we can have a look at the data to see how it looks."
      ],
      "metadata": {
        "id": "hO38lfhS2_9Y"
      }
    },
    {
      "cell_type": "code",
      "source": [
        "#Label Encoding of features\n",
        "data = data.apply(LabelEncoder().fit_transform)\n",
        "\n",
        "#show the first 5 rows of the data\n",
        "data.head()"
      ],
      "metadata": {
        "colab": {
          "base_uri": "https://localhost:8080/",
          "height": 226
        },
        "id": "B0ZZEMEeEpm6",
        "outputId": "7de33d05-3e6f-409c-a43a-264d7bfcfe09"
      },
      "execution_count": null,
      "outputs": [
        {
          "output_type": "execute_result",
          "data": {
            "text/plain": [
              "   gender  SeniorCitizen  Partner  Dependents  tenure  PhoneService  \\\n",
              "0       0              0        1           0       0             0   \n",
              "1       1              0        0           0      33             1   \n",
              "2       1              0        0           0       1             1   \n",
              "3       1              0        0           0      44             0   \n",
              "4       0              0        0           0       1             1   \n",
              "\n",
              "   MultipleLines  InternetService  OnlineSecurity  OnlineBackup  \\\n",
              "0              1                0               0             2   \n",
              "1              0                0               2             0   \n",
              "2              0                0               2             2   \n",
              "3              1                0               2             0   \n",
              "4              0                1               0             0   \n",
              "\n",
              "   DeviceProtection  TechSupport  StreamingTV  StreamingMovies  Contract  \\\n",
              "0                 0            0            0                0         0   \n",
              "1                 2            0            0                0         1   \n",
              "2                 0            0            0                0         0   \n",
              "3                 2            2            0                0         1   \n",
              "4                 0            0            0                0         0   \n",
              "\n",
              "   PaperlessBilling  PaymentMethod  MonthlyCharges  TotalCharges  Churn  \n",
              "0                 1              2             142            74      0  \n",
              "1                 0              3             497          3624      0  \n",
              "2                 1              3             435           536      1  \n",
              "3                 0              0             266          3570      0  \n",
              "4                 1              2             728           674      1  "
            ],
            "text/html": [
              "\n",
              "  <div id=\"df-de4195da-4995-4c0e-951a-72955a7b4bf6\" class=\"colab-df-container\">\n",
              "    <div>\n",
              "<style scoped>\n",
              "    .dataframe tbody tr th:only-of-type {\n",
              "        vertical-align: middle;\n",
              "    }\n",
              "\n",
              "    .dataframe tbody tr th {\n",
              "        vertical-align: top;\n",
              "    }\n",
              "\n",
              "    .dataframe thead th {\n",
              "        text-align: right;\n",
              "    }\n",
              "</style>\n",
              "<table border=\"1\" class=\"dataframe\">\n",
              "  <thead>\n",
              "    <tr style=\"text-align: right;\">\n",
              "      <th></th>\n",
              "      <th>gender</th>\n",
              "      <th>SeniorCitizen</th>\n",
              "      <th>Partner</th>\n",
              "      <th>Dependents</th>\n",
              "      <th>tenure</th>\n",
              "      <th>PhoneService</th>\n",
              "      <th>MultipleLines</th>\n",
              "      <th>InternetService</th>\n",
              "      <th>OnlineSecurity</th>\n",
              "      <th>OnlineBackup</th>\n",
              "      <th>DeviceProtection</th>\n",
              "      <th>TechSupport</th>\n",
              "      <th>StreamingTV</th>\n",
              "      <th>StreamingMovies</th>\n",
              "      <th>Contract</th>\n",
              "      <th>PaperlessBilling</th>\n",
              "      <th>PaymentMethod</th>\n",
              "      <th>MonthlyCharges</th>\n",
              "      <th>TotalCharges</th>\n",
              "      <th>Churn</th>\n",
              "    </tr>\n",
              "  </thead>\n",
              "  <tbody>\n",
              "    <tr>\n",
              "      <th>0</th>\n",
              "      <td>0</td>\n",
              "      <td>0</td>\n",
              "      <td>1</td>\n",
              "      <td>0</td>\n",
              "      <td>0</td>\n",
              "      <td>0</td>\n",
              "      <td>1</td>\n",
              "      <td>0</td>\n",
              "      <td>0</td>\n",
              "      <td>2</td>\n",
              "      <td>0</td>\n",
              "      <td>0</td>\n",
              "      <td>0</td>\n",
              "      <td>0</td>\n",
              "      <td>0</td>\n",
              "      <td>1</td>\n",
              "      <td>2</td>\n",
              "      <td>142</td>\n",
              "      <td>74</td>\n",
              "      <td>0</td>\n",
              "    </tr>\n",
              "    <tr>\n",
              "      <th>1</th>\n",
              "      <td>1</td>\n",
              "      <td>0</td>\n",
              "      <td>0</td>\n",
              "      <td>0</td>\n",
              "      <td>33</td>\n",
              "      <td>1</td>\n",
              "      <td>0</td>\n",
              "      <td>0</td>\n",
              "      <td>2</td>\n",
              "      <td>0</td>\n",
              "      <td>2</td>\n",
              "      <td>0</td>\n",
              "      <td>0</td>\n",
              "      <td>0</td>\n",
              "      <td>1</td>\n",
              "      <td>0</td>\n",
              "      <td>3</td>\n",
              "      <td>497</td>\n",
              "      <td>3624</td>\n",
              "      <td>0</td>\n",
              "    </tr>\n",
              "    <tr>\n",
              "      <th>2</th>\n",
              "      <td>1</td>\n",
              "      <td>0</td>\n",
              "      <td>0</td>\n",
              "      <td>0</td>\n",
              "      <td>1</td>\n",
              "      <td>1</td>\n",
              "      <td>0</td>\n",
              "      <td>0</td>\n",
              "      <td>2</td>\n",
              "      <td>2</td>\n",
              "      <td>0</td>\n",
              "      <td>0</td>\n",
              "      <td>0</td>\n",
              "      <td>0</td>\n",
              "      <td>0</td>\n",
              "      <td>1</td>\n",
              "      <td>3</td>\n",
              "      <td>435</td>\n",
              "      <td>536</td>\n",
              "      <td>1</td>\n",
              "    </tr>\n",
              "    <tr>\n",
              "      <th>3</th>\n",
              "      <td>1</td>\n",
              "      <td>0</td>\n",
              "      <td>0</td>\n",
              "      <td>0</td>\n",
              "      <td>44</td>\n",
              "      <td>0</td>\n",
              "      <td>1</td>\n",
              "      <td>0</td>\n",
              "      <td>2</td>\n",
              "      <td>0</td>\n",
              "      <td>2</td>\n",
              "      <td>2</td>\n",
              "      <td>0</td>\n",
              "      <td>0</td>\n",
              "      <td>1</td>\n",
              "      <td>0</td>\n",
              "      <td>0</td>\n",
              "      <td>266</td>\n",
              "      <td>3570</td>\n",
              "      <td>0</td>\n",
              "    </tr>\n",
              "    <tr>\n",
              "      <th>4</th>\n",
              "      <td>0</td>\n",
              "      <td>0</td>\n",
              "      <td>0</td>\n",
              "      <td>0</td>\n",
              "      <td>1</td>\n",
              "      <td>1</td>\n",
              "      <td>0</td>\n",
              "      <td>1</td>\n",
              "      <td>0</td>\n",
              "      <td>0</td>\n",
              "      <td>0</td>\n",
              "      <td>0</td>\n",
              "      <td>0</td>\n",
              "      <td>0</td>\n",
              "      <td>0</td>\n",
              "      <td>1</td>\n",
              "      <td>2</td>\n",
              "      <td>728</td>\n",
              "      <td>674</td>\n",
              "      <td>1</td>\n",
              "    </tr>\n",
              "  </tbody>\n",
              "</table>\n",
              "</div>\n",
              "    <div class=\"colab-df-buttons\">\n",
              "\n",
              "  <div class=\"colab-df-container\">\n",
              "    <button class=\"colab-df-convert\" onclick=\"convertToInteractive('df-de4195da-4995-4c0e-951a-72955a7b4bf6')\"\n",
              "            title=\"Convert this dataframe to an interactive table.\"\n",
              "            style=\"display:none;\">\n",
              "\n",
              "  <svg xmlns=\"http://www.w3.org/2000/svg\" height=\"24px\" viewBox=\"0 -960 960 960\">\n",
              "    <path d=\"M120-120v-720h720v720H120Zm60-500h600v-160H180v160Zm220 220h160v-160H400v160Zm0 220h160v-160H400v160ZM180-400h160v-160H180v160Zm440 0h160v-160H620v160ZM180-180h160v-160H180v160Zm440 0h160v-160H620v160Z\"/>\n",
              "  </svg>\n",
              "    </button>\n",
              "\n",
              "  <style>\n",
              "    .colab-df-container {\n",
              "      display:flex;\n",
              "      gap: 12px;\n",
              "    }\n",
              "\n",
              "    .colab-df-convert {\n",
              "      background-color: #E8F0FE;\n",
              "      border: none;\n",
              "      border-radius: 50%;\n",
              "      cursor: pointer;\n",
              "      display: none;\n",
              "      fill: #1967D2;\n",
              "      height: 32px;\n",
              "      padding: 0 0 0 0;\n",
              "      width: 32px;\n",
              "    }\n",
              "\n",
              "    .colab-df-convert:hover {\n",
              "      background-color: #E2EBFA;\n",
              "      box-shadow: 0px 1px 2px rgba(60, 64, 67, 0.3), 0px 1px 3px 1px rgba(60, 64, 67, 0.15);\n",
              "      fill: #174EA6;\n",
              "    }\n",
              "\n",
              "    .colab-df-buttons div {\n",
              "      margin-bottom: 4px;\n",
              "    }\n",
              "\n",
              "    [theme=dark] .colab-df-convert {\n",
              "      background-color: #3B4455;\n",
              "      fill: #D2E3FC;\n",
              "    }\n",
              "\n",
              "    [theme=dark] .colab-df-convert:hover {\n",
              "      background-color: #434B5C;\n",
              "      box-shadow: 0px 1px 3px 1px rgba(0, 0, 0, 0.15);\n",
              "      filter: drop-shadow(0px 1px 2px rgba(0, 0, 0, 0.3));\n",
              "      fill: #FFFFFF;\n",
              "    }\n",
              "  </style>\n",
              "\n",
              "    <script>\n",
              "      const buttonEl =\n",
              "        document.querySelector('#df-de4195da-4995-4c0e-951a-72955a7b4bf6 button.colab-df-convert');\n",
              "      buttonEl.style.display =\n",
              "        google.colab.kernel.accessAllowed ? 'block' : 'none';\n",
              "\n",
              "      async function convertToInteractive(key) {\n",
              "        const element = document.querySelector('#df-de4195da-4995-4c0e-951a-72955a7b4bf6');\n",
              "        const dataTable =\n",
              "          await google.colab.kernel.invokeFunction('convertToInteractive',\n",
              "                                                    [key], {});\n",
              "        if (!dataTable) return;\n",
              "\n",
              "        const docLinkHtml = 'Like what you see? Visit the ' +\n",
              "          '<a target=\"_blank\" href=https://colab.research.google.com/notebooks/data_table.ipynb>data table notebook</a>'\n",
              "          + ' to learn more about interactive tables.';\n",
              "        element.innerHTML = '';\n",
              "        dataTable['output_type'] = 'display_data';\n",
              "        await google.colab.output.renderOutput(dataTable, element);\n",
              "        const docLink = document.createElement('div');\n",
              "        docLink.innerHTML = docLinkHtml;\n",
              "        element.appendChild(docLink);\n",
              "      }\n",
              "    </script>\n",
              "  </div>\n",
              "\n",
              "\n",
              "<div id=\"df-cda2d026-b9e1-49af-9130-6fa67ad3abf9\">\n",
              "  <button class=\"colab-df-quickchart\" onclick=\"quickchart('df-cda2d026-b9e1-49af-9130-6fa67ad3abf9')\"\n",
              "            title=\"Suggest charts\"\n",
              "            style=\"display:none;\">\n",
              "\n",
              "<svg xmlns=\"http://www.w3.org/2000/svg\" height=\"24px\"viewBox=\"0 0 24 24\"\n",
              "     width=\"24px\">\n",
              "    <g>\n",
              "        <path d=\"M19 3H5c-1.1 0-2 .9-2 2v14c0 1.1.9 2 2 2h14c1.1 0 2-.9 2-2V5c0-1.1-.9-2-2-2zM9 17H7v-7h2v7zm4 0h-2V7h2v10zm4 0h-2v-4h2v4z\"/>\n",
              "    </g>\n",
              "</svg>\n",
              "  </button>\n",
              "\n",
              "<style>\n",
              "  .colab-df-quickchart {\n",
              "      --bg-color: #E8F0FE;\n",
              "      --fill-color: #1967D2;\n",
              "      --hover-bg-color: #E2EBFA;\n",
              "      --hover-fill-color: #174EA6;\n",
              "      --disabled-fill-color: #AAA;\n",
              "      --disabled-bg-color: #DDD;\n",
              "  }\n",
              "\n",
              "  [theme=dark] .colab-df-quickchart {\n",
              "      --bg-color: #3B4455;\n",
              "      --fill-color: #D2E3FC;\n",
              "      --hover-bg-color: #434B5C;\n",
              "      --hover-fill-color: #FFFFFF;\n",
              "      --disabled-bg-color: #3B4455;\n",
              "      --disabled-fill-color: #666;\n",
              "  }\n",
              "\n",
              "  .colab-df-quickchart {\n",
              "    background-color: var(--bg-color);\n",
              "    border: none;\n",
              "    border-radius: 50%;\n",
              "    cursor: pointer;\n",
              "    display: none;\n",
              "    fill: var(--fill-color);\n",
              "    height: 32px;\n",
              "    padding: 0;\n",
              "    width: 32px;\n",
              "  }\n",
              "\n",
              "  .colab-df-quickchart:hover {\n",
              "    background-color: var(--hover-bg-color);\n",
              "    box-shadow: 0 1px 2px rgba(60, 64, 67, 0.3), 0 1px 3px 1px rgba(60, 64, 67, 0.15);\n",
              "    fill: var(--button-hover-fill-color);\n",
              "  }\n",
              "\n",
              "  .colab-df-quickchart-complete:disabled,\n",
              "  .colab-df-quickchart-complete:disabled:hover {\n",
              "    background-color: var(--disabled-bg-color);\n",
              "    fill: var(--disabled-fill-color);\n",
              "    box-shadow: none;\n",
              "  }\n",
              "\n",
              "  .colab-df-spinner {\n",
              "    border: 2px solid var(--fill-color);\n",
              "    border-color: transparent;\n",
              "    border-bottom-color: var(--fill-color);\n",
              "    animation:\n",
              "      spin 1s steps(1) infinite;\n",
              "  }\n",
              "\n",
              "  @keyframes spin {\n",
              "    0% {\n",
              "      border-color: transparent;\n",
              "      border-bottom-color: var(--fill-color);\n",
              "      border-left-color: var(--fill-color);\n",
              "    }\n",
              "    20% {\n",
              "      border-color: transparent;\n",
              "      border-left-color: var(--fill-color);\n",
              "      border-top-color: var(--fill-color);\n",
              "    }\n",
              "    30% {\n",
              "      border-color: transparent;\n",
              "      border-left-color: var(--fill-color);\n",
              "      border-top-color: var(--fill-color);\n",
              "      border-right-color: var(--fill-color);\n",
              "    }\n",
              "    40% {\n",
              "      border-color: transparent;\n",
              "      border-right-color: var(--fill-color);\n",
              "      border-top-color: var(--fill-color);\n",
              "    }\n",
              "    60% {\n",
              "      border-color: transparent;\n",
              "      border-right-color: var(--fill-color);\n",
              "    }\n",
              "    80% {\n",
              "      border-color: transparent;\n",
              "      border-right-color: var(--fill-color);\n",
              "      border-bottom-color: var(--fill-color);\n",
              "    }\n",
              "    90% {\n",
              "      border-color: transparent;\n",
              "      border-bottom-color: var(--fill-color);\n",
              "    }\n",
              "  }\n",
              "</style>\n",
              "\n",
              "  <script>\n",
              "    async function quickchart(key) {\n",
              "      const quickchartButtonEl =\n",
              "        document.querySelector('#' + key + ' button');\n",
              "      quickchartButtonEl.disabled = true;  // To prevent multiple clicks.\n",
              "      quickchartButtonEl.classList.add('colab-df-spinner');\n",
              "      try {\n",
              "        const charts = await google.colab.kernel.invokeFunction(\n",
              "            'suggestCharts', [key], {});\n",
              "      } catch (error) {\n",
              "        console.error('Error during call to suggestCharts:', error);\n",
              "      }\n",
              "      quickchartButtonEl.classList.remove('colab-df-spinner');\n",
              "      quickchartButtonEl.classList.add('colab-df-quickchart-complete');\n",
              "    }\n",
              "    (() => {\n",
              "      let quickchartButtonEl =\n",
              "        document.querySelector('#df-cda2d026-b9e1-49af-9130-6fa67ad3abf9 button');\n",
              "      quickchartButtonEl.style.display =\n",
              "        google.colab.kernel.accessAllowed ? 'block' : 'none';\n",
              "    })();\n",
              "  </script>\n",
              "</div>\n",
              "    </div>\n",
              "  </div>\n"
            ]
          },
          "metadata": {},
          "execution_count": 72
        }
      ]
    },
    {
      "cell_type": "markdown",
      "source": [
        "Note that all the categorical features have been assigned numerical values. However, the continuous features remain the same, which is exactly what we would like.\n",
        "\n",
        "Now we can separate our target and predictor variables to make it easier to build models around them."
      ],
      "metadata": {
        "id": "FxeMARKS997u"
      }
    },
    {
      "cell_type": "code",
      "source": [
        "#Separating target and predictors\n",
        "\n",
        "##selecting Churn as target variable\n",
        "target = data['Churn']\n",
        "\n",
        "##selecting all variables except Churn\n",
        "predictors = data.drop(['Churn'], axis=1)"
      ],
      "metadata": {
        "id": "ARtEobzMF5y1"
      },
      "execution_count": null,
      "outputs": []
    },
    {
      "cell_type": "markdown",
      "source": [
        "Now we find out the correlations of predictors against the target. For this we create a correlation matrix and then visualise it using a heatmap."
      ],
      "metadata": {
        "id": "cuSyg5d8-wRY"
      }
    },
    {
      "cell_type": "code",
      "source": [
        "#creating a correlation matrix\n",
        "corr = predictors.corrwith(target).sort_values(ascending = False).to_frame()\n",
        "\n",
        "#generating the correlation heatmap\n",
        "sns.heatmap(corr, annot = True,cmap = 'coolwarm',linewidths = 0.4,linecolor = 'black')\n",
        "plt.title('Correlation of Predictors with Target (Churn)');"
      ],
      "metadata": {
        "colab": {
          "base_uri": "https://localhost:8080/",
          "height": 452
        },
        "id": "FpxbUoSAFbNY",
        "outputId": "dc914225-9532-4175-deee-e0a0e20627d7"
      },
      "execution_count": null,
      "outputs": [
        {
          "output_type": "display_data",
          "data": {
            "text/plain": [
              "<Figure size 640x480 with 2 Axes>"
            ],
            "image/png": "[encoded data removed]"
          },
          "metadata": {}
        }
      ]
    },
    {
      "cell_type": "markdown",
      "source": [
        "We can see that most of the features are not highly correlated with the target. Some features such as Contract and Tenure seem to somewhat correlated to the Churn.\n",
        "\n",
        "This might not give us the true picture because the features are originally categorical and their correlations with Churn cannot be used as a benchmark. Secondly, correlation can only explain how linear the data is. Our data might not have linear relationship, which is why we need machine learning models to perform classification. These models take all variables into account when mapping the target variable.\n",
        "\n",
        "Let's define X and y parameters for our models. We need our X and y to be pandas dataframes. 'Predictors' is already a dataframe but we need to convert 'target' from a series to a dataframe."
      ],
      "metadata": {
        "id": "KqRBbTm4__g6"
      }
    },
    {
      "cell_type": "code",
      "source": [
        "#defining X and y parameters for model training\n",
        "X = predictors\n",
        "y = target.to_frame()\n"
      ],
      "metadata": {
        "id": "0k0eJe3FHTgF"
      },
      "execution_count": null,
      "outputs": []
    },
    {
      "cell_type": "markdown",
      "source": [
        "Next, we will split our x and y data into training and testing sets. The training sets are used to fit the model to our specific data. Later, the testing sets are used to make predictions and compare the results of the model."
      ],
      "metadata": {
        "id": "93AS8Qh_CmhZ"
      }
    },
    {
      "cell_type": "code",
      "source": [
        "#Splitting data into training & testing sets\n",
        "X_train, X_test, y_train, y_test = train_test_split(X, y, test_size=0.33, random_state=324)"
      ],
      "metadata": {
        "id": "i7nfHg9NHTl8"
      },
      "execution_count": null,
      "outputs": []
    },
    {
      "cell_type": "markdown",
      "source": [
        "##Classification Models: Training, Implementation & Performance Evaluation\n",
        "Now that our data is ready, we can train and test different algorithms and find out which one performs the best with our specific data. Since our task is a Binary CLassification task, we will use the following popular classification algorithms to compare results:\n",
        "* Gaussian Naive Bayes\n",
        "* Decision Tree\n",
        "* Random Forest\n",
        "* Logistic Regression\n",
        "\n",
        "The following list outlines the steps taken for the training, testing and evaluation of the classification models.\n",
        "* First, we convert our target variable training set (y_train) to a one-dimensional numpy array.\n",
        "* Then we create a classifier using the particular algorithm from Scikit-learn package and fit the model using the training sets.\n",
        "* Then this model is used to make prediction for y using the test set of x.\n",
        "* Then these predictions are compared against the actual test set of y.\n",
        "* Based on this comparison, we calculate the accuracy of the model and create a confusion matrix.\n",
        "* The classification report provides the precision, recall and F1 score of the model which are essential metrics for performance evaluation.\n",
        "\n",
        "Let's understand what the confusion matrix and the relevant scoring metrics actually mean.\n",
        "\n",
        "<img src=\"https://builtin.com/sites/www.builtin.com/files/styles/ckeditor_optimize/public/inline-images/8_confusion-matrix-python.jpg\" width=\"500\" height=\"340\">\n",
        "\n",
        "The confusion matrix as shown above compares the actual versus predicted values and checks whether the predictions were correct or not. The key terms are:\n",
        "\n",
        "**True Positive (TP)**: Instances that are actually positive and are predicted as positive by the model.<br>\n",
        "**False Positive (FP)**: Instances that are actually negative but are predicted as positive by the model.<br>\n",
        "**False Negative (FN)**: Instances that are actually positive but are predicted as negative by the model.<br>\n",
        "**True Negative (TN)**: Instances that are actually negative and are predicted as negative by the model.<br>\n",
        "\n",
        "Based on these terms, the correlation report calculates the scores as shown below:\n",
        "* Precision = TP / (TP + FP) <br>\n",
        "Out of all the positive predictions, how many were actually true <br>\n",
        "\n",
        "* Recall = TP / (TP + FN) <br>\n",
        "Out of all the actual true values, how many were correctly predicted by the model <br>\n",
        "\n",
        "* F1 Score = 2 * (Precision * Recall) / (Precision + Recall) <br>\n",
        "It is the harmonic mean of the precision and recall\n",
        "\n",
        "All these metrics are essential in evaluating the performance of a binary classification model where predictions are made on the basis of class labels (True or False). Note that the correlation report will give two sets of scores - one for each class. Recall that 0 means customer staying while 1 means customer leaving.\n",
        "\n",
        "Let's start applying our models and see which one performs the best.\n"
      ],
      "metadata": {
        "id": "W_akXqzeT0kW"
      }
    },
    {
      "cell_type": "markdown",
      "source": [
        "##**Gaussian Naive Bayes**\n",
        "Gaussian Naive Bayes is a classification technique based on a probabilistic approach which assumes that each class is normally distributed and each feature has the potential to independently predict the target variable (Martins, 2023). Let's apply this algorithm to our data and see the results."
      ],
      "metadata": {
        "id": "iLDT4bugEnb1"
      }
    },
    {
      "cell_type": "code",
      "source": [
        "#Gaussian Naive Bayes\n",
        "\n",
        "#converting the y_train to a 1-dimensional numpy array\n",
        "y_train_flat = y_train.values.ravel()\n",
        "\n",
        "# Create and train a Gaussian Naive Bayes classifier (Gaussian Naive Bayes)\n",
        "churn_classifier_GNB = GaussianNB()\n",
        "churn_classifier_GNB.fit(X_train, y_train_flat)\n",
        "\n",
        "# Make predictions on the test set\n",
        "predictions_nb = churn_classifier_GNB.predict(X_test)\n",
        "\n",
        "# Calculate accuracy\n",
        "accuracy_nb = accuracy_score(y_true=y_test, y_pred=predictions_nb)\n",
        "print(f'Naive Bayes Accuracy: {accuracy_nb:.2%}\\n')\n",
        "#Classification Report\n",
        "print(classification_report(y_test, predictions_nb))"
      ],
      "metadata": {
        "colab": {
          "base_uri": "https://localhost:8080/"
        },
        "id": "W-0YphlEHTru",
        "outputId": "668ca36d-64c0-4dd6-8229-ca42eae83785"
      },
      "execution_count": null,
      "outputs": [
        {
          "output_type": "stream",
          "name": "stdout",
          "text": [
            "Naive Bayes Accuracy: 76.35%\n",
            "\n",
            "              precision    recall  f1-score   support\n",
            "\n",
            "           0       0.89      0.78      0.83      1723\n",
            "           1       0.53      0.72      0.61       598\n",
            "\n",
            "    accuracy                           0.76      2321\n",
            "   macro avg       0.71      0.75      0.72      2321\n",
            "weighted avg       0.80      0.76      0.77      2321\n",
            "\n"
          ]
        }
      ]
    },
    {
      "cell_type": "markdown",
      "source": [
        "**Discussion:**\n",
        "\n",
        "The Gaussian Naive Bayes gives an accuracy of around 76%. It predicts the negative class with a precision of 89% while the positive class is predicted with a precision of merely 53%. Since our class labels are not distributed normally, it might not be a good idea to go ahead with this model."
      ],
      "metadata": {
        "id": "8OADHZy-PJYL"
      }
    },
    {
      "cell_type": "markdown",
      "source": [
        "##**Decision Tree & Random Forest**\n",
        "\n",
        "According to Bento (2021), decision trees are classifier algorithms that uses a set of rules to make decisions just like humans do. Some algorithms are probabilistic  while others are rules-based. Decision Trees keep applying different rules to create leaf nodes untill all the samples are either pure in that node or reach a threshold limit. The depth of the tree is a factor that can be fine-tuned to fit the data better. Unlimited depth can result in overfitting, or small depth can result in underfitting.\n",
        "\n",
        "Meltzer (2023) says that Random Forest is an algorithm which uses multiple decision trees after dividing the data into several sets. It grows and merges those trees together for a better accuracy. These individual trees are uncorrelated, and each tree provides a classification label. The label with most occurrences is adopted by the model, which altogether improves the accuracy.\n",
        "\n",
        "Let's train and apply both the models - first we will use an individual decision tree and then the Random Forest and see the results."
      ],
      "metadata": {
        "id": "SHi5bLRCWEeL"
      }
    },
    {
      "cell_type": "code",
      "source": [
        "#Decision Tree\n",
        "\n",
        "# Ensure y_train is a 1D array using values and ravel()\n",
        "y_train_flat = y_train.values.ravel()\n",
        "# Create and train a Decision Tree classifier\n",
        "churn_classifier_dt = DecisionTreeClassifier(max_leaf_nodes=100, random_state=0)\n",
        "churn_classifier_dt.fit(X_train, y_train_flat)\n",
        "# Make predictions on the test set\n",
        "predictions_dt = churn_classifier_dt.predict(X_test)\n",
        "# Calculate accuracy\n",
        "accuracy_dt = accuracy_score(y_true=y_test, y_pred=predictions_dt)\n",
        "print(f'Decision Tree Accuracy: {accuracy_dt:.2%}\\n')\n",
        "#Classification Report\n",
        "print(classification_report(y_test, predictions_dt))"
      ],
      "metadata": {
        "colab": {
          "base_uri": "https://localhost:8080/"
        },
        "id": "GA6oAefTHTxG",
        "outputId": "b0daece3-0561-4e7d-e570-7fa99f830838"
      },
      "execution_count": null,
      "outputs": [
        {
          "output_type": "stream",
          "name": "stdout",
          "text": [
            "Decision Tree Accuracy: 77.94%\n",
            "\n",
            "              precision    recall  f1-score   support\n",
            "\n",
            "           0       0.84      0.87      0.85      1723\n",
            "           1       0.58      0.52      0.55       598\n",
            "\n",
            "    accuracy                           0.78      2321\n",
            "   macro avg       0.71      0.69      0.70      2321\n",
            "weighted avg       0.77      0.78      0.78      2321\n",
            "\n"
          ]
        }
      ]
    },
    {
      "cell_type": "markdown",
      "source": [
        "The random forest model is using 100 trees for classification (n_estimators set to 100)."
      ],
      "metadata": {
        "id": "SgTAZev-earh"
      }
    },
    {
      "cell_type": "code",
      "source": [
        "#Random Forest\n",
        "\n",
        "# Ensure y_train is a 1D array using values and ravel()\n",
        "y_train_flat = y_train.values.ravel()\n",
        "# Create and train a Random Forest classifier\n",
        "churn_classifier_rf = RandomForestClassifier(n_estimators=100, random_state=0)\n",
        "churn_classifier_rf.fit(X_train, y_train_flat)\n",
        "# Make predictions on the test set\n",
        "predictions_rf = churn_classifier_rf.predict(X_test)\n",
        "# Calculate accuracy\n",
        "accuracy_rf = accuracy_score(y_true=y_test, y_pred=predictions_rf)\n",
        "print(f'Random Forest Accuracy: {accuracy_rf:.2%}\\n')\n",
        "#Classification Report\n",
        "print(classification_report(y_test, predictions_rf))"
      ],
      "metadata": {
        "colab": {
          "base_uri": "https://localhost:8080/"
        },
        "id": "xumqiPGaLYH4",
        "outputId": "aa6f09e7-5cf5-4761-95a5-3f7d7fe36a81"
      },
      "execution_count": null,
      "outputs": [
        {
          "output_type": "stream",
          "name": "stdout",
          "text": [
            "Random Forest Accuracy: 79.97%\n",
            "\n",
            "              precision    recall  f1-score   support\n",
            "\n",
            "           0       0.84      0.90      0.87      1723\n",
            "           1       0.64      0.50      0.56       598\n",
            "\n",
            "    accuracy                           0.80      2321\n",
            "   macro avg       0.74      0.70      0.72      2321\n",
            "weighted avg       0.79      0.80      0.79      2321\n",
            "\n"
          ]
        }
      ]
    },
    {
      "cell_type": "markdown",
      "source": [
        "**Discussion:**\n",
        "\n",
        "We can see from the results that both Decision Tree and Random Forest give an accuracy of around 80%. The difference is not very striking. This can be due to the fact that each tree in Forest is giving a similar result which is not altering the overall accuracy.\n",
        "\n",
        "However, same as the Naive Bayes model, the Decision Tree & Random Forest are also good at predicting the negative class (customers stay) while not very good at predicting the positive class (churn). This can be concluded from correlation report. Both models have a precision and recall scores between 84% - 90% for the negative predictions, but the positive prediction scores are as follows:\n",
        "\n",
        "Random Forest (Positive Class) -\n",
        "Precision: 64% ,\n",
        "Recall: 50%\n",
        "\n",
        "Decision Tree (Positive Class) -\n",
        "Precision: 58% ,  Recall: 52%\n"
      ],
      "metadata": {
        "id": "7Zy3qI61eE5Q"
      }
    },
    {
      "cell_type": "markdown",
      "source": [
        "##**Logistic Regression**\n",
        "Logistic Regression is another classification technique used particularly for binary classification problems by predicting the mathematical probability of a binary outcome using logistic functions (Kanade, 2022). It is ideal for datasets that are linearly separable and is commonly used in predictive modelling. This model seems to be suitable for our data because our target variable has a binary class.\n",
        "\n",
        "Kanade (2022) states that Logistic Regression employs a logistic function called sigmod function which provides an output in the range of 0 and 1. This output is then compared to threshold probabilities and class labels are assigned accordingly. The assumptions required to effectively use this model are as follows:\n",
        "* Target variable is binary (dichotomous)\n",
        "* Predictor variables have little or no multicolinearity - this means that they must be independent of each other\n",
        "* Sample size is large\n",
        "* No extreme outliers in the data"
      ],
      "metadata": {
        "id": "fk2aGfvNjEHH"
      }
    },
    {
      "cell_type": "markdown",
      "source": [
        "###Base Model:\n",
        "Let's first train and implement the base model and see the results. Later we can perform tweaks to improve the accuracy and evaluate the results."
      ],
      "metadata": {
        "id": "5utO5rmKC00B"
      }
    },
    {
      "cell_type": "code",
      "source": [
        "#Logistic Regression\n",
        "\n",
        "# Ensure y_train is a 1D array using values and ravel()\n",
        "y_train_flat = y_train.values.ravel()\n",
        "# Create and train a Logistic Regression classifier\n",
        "churn_classifier_lr = LogisticRegression(max_iter=200)\n",
        "churn_classifier_lr.fit(X_train, y_train_flat)\n",
        "# Make predictions on the test set\n",
        "predictions_lr = churn_classifier_lr.predict(X_test)\n",
        "# Calculate accuracy\n",
        "accuracy_lr = accuracy_score(y_true=y_test, y_pred=predictions_lr)\n",
        "print(f'Logistic Regression Accuracy: {accuracy_lr:.2%}\\n')"
      ],
      "metadata": {
        "colab": {
          "base_uri": "https://localhost:8080/"
        },
        "id": "B34YzSyqMgj0",
        "outputId": "10774e6d-9761-4155-c36e-dc6c10e2ffc9"
      },
      "execution_count": null,
      "outputs": [
        {
          "output_type": "stream",
          "name": "stdout",
          "text": [
            "Logistic Regression Accuracy: 80.14%\n",
            "\n"
          ]
        }
      ]
    },
    {
      "cell_type": "markdown",
      "source": [
        "Logistic Regression gives th highest accuracy in classification as compared to other models. Let's explore this model further and see if we can tweak some hyperparameters to get the best results.\n",
        "\n",
        "###Finding Best Hyperparameters\n",
        "We can perform Repeated Stratified K-Fold Cross Validation and Grid Search to find the best hyperparameters of the Logistic Regression model for our data. Three important hyperparameters of this model are: solvers, penalty and c_values. Let's find a combination of these parameters which gives the best highest accuracy. Since all solvers do not support all regularization terms, if we compare all solvers, the code will give tons of warnings. So, we will only select the solver to be l2 which, through trial and error, we know produces the best results."
      ],
      "metadata": {
        "id": "5pfucyM1ya-V"
      }
    },
    {
      "cell_type": "code",
      "source": [
        "from sklearn.model_selection import RepeatedStratifiedKFold\n",
        "from sklearn.model_selection import GridSearchCV\n",
        "\n",
        "# define models and parameters\n",
        "model = LogisticRegression()\n",
        "solvers = ['newton-cg', 'lbfgs', 'liblinear']\n",
        "penalty = ['l2']\n",
        "c_values = [100, 10, 1.0, 0.1, 0.01]\n",
        "# define grid search\n",
        "grid = dict(solver=solvers,penalty=penalty,C=c_values)\n",
        "cv = RepeatedStratifiedKFold(n_splits=10, n_repeats=3, random_state=1)\n",
        "grid_search = GridSearchCV(estimator=model, param_grid=grid, n_jobs=-1, cv=cv, scoring='accuracy',error_score=0)\n",
        "grid_result = grid_search.fit(X, y.values.ravel())\n",
        "# summarize results\n",
        "print(\"Best: %f using %s\" % (grid_result.best_score_, grid_result.best_params_))\n",
        "means = grid_result.cv_results_['mean_test_score']\n",
        "stds = grid_result.cv_results_['std_test_score']\n",
        "params = grid_result.cv_results_['params']\n",
        "for mean, stdev, param in zip(means, stds, params):\n",
        "    print(\"%f (%f) with: %r\" % (mean, stdev, param))"
      ],
      "metadata": {
        "colab": {
          "base_uri": "https://localhost:8080/"
        },
        "id": "ZMZ8NlyjCOwS",
        "outputId": "35aaed5d-4c85-41b4-ea59-1dbd15481ae7"
      },
      "execution_count": null,
      "outputs": [
        {
          "output_type": "stream",
          "name": "stdout",
          "text": [
            "Best: 0.804703 using {'C': 1.0, 'penalty': 'l2', 'solver': 'newton-cg'}\n",
            "0.804561 (0.012510) with: {'C': 100, 'penalty': 'l2', 'solver': 'newton-cg'}\n",
            "0.800673 (0.012410) with: {'C': 100, 'penalty': 'l2', 'solver': 'lbfgs'}\n",
            "0.801289 (0.011501) with: {'C': 100, 'penalty': 'l2', 'solver': 'liblinear'}\n",
            "0.804608 (0.012521) with: {'C': 10, 'penalty': 'l2', 'solver': 'newton-cg'}\n",
            "0.801005 (0.010935) with: {'C': 10, 'penalty': 'l2', 'solver': 'lbfgs'}\n",
            "0.801384 (0.011511) with: {'C': 10, 'penalty': 'l2', 'solver': 'liblinear'}\n",
            "0.804703 (0.012508) with: {'C': 1.0, 'penalty': 'l2', 'solver': 'newton-cg'}\n",
            "0.800673 (0.011921) with: {'C': 1.0, 'penalty': 'l2', 'solver': 'lbfgs'}\n",
            "0.801384 (0.011675) with: {'C': 1.0, 'penalty': 'l2', 'solver': 'liblinear'}\n",
            "0.804324 (0.012739) with: {'C': 0.1, 'penalty': 'l2', 'solver': 'newton-cg'}\n",
            "0.801621 (0.011657) with: {'C': 0.1, 'penalty': 'l2', 'solver': 'lbfgs'}\n",
            "0.800483 (0.010463) with: {'C': 0.1, 'penalty': 'l2', 'solver': 'liblinear'}\n",
            "0.801337 (0.011786) with: {'C': 0.01, 'penalty': 'l2', 'solver': 'newton-cg'}\n",
            "0.800056 (0.012319) with: {'C': 0.01, 'penalty': 'l2', 'solver': 'lbfgs'}\n",
            "0.799061 (0.012054) with: {'C': 0.01, 'penalty': 'l2', 'solver': 'liblinear'}\n"
          ]
        }
      ]
    },
    {
      "cell_type": "markdown",
      "source": [
        "###Tuning Hyperparameters & Standard Scaling\n",
        "As we can see, a c_value of 1.0, penalty 'l2' and solver 'netwon-cg' produce the best results. Let's use these in our model. We can also set the max number of iterations to 1000 for even better fitting. Another technique to fit the model more accurately is to scale the predictor variables. We can use a Scaler to transform the X data which converts the numerical values to a standard scale in order to balance the impact of each variable on the fit. Otherwise, variables like Total Charges or Monthly Charges, which have a very high magnitude, can create a bias in the data.\n",
        "\n",
        "Let's apply all these factors together and see the results of the Logistic Regression."
      ],
      "metadata": {
        "id": "Qo2oTWe1ztaQ"
      }
    },
    {
      "cell_type": "code",
      "source": [
        "from sklearn.preprocessing import StandardScaler\n",
        "\n",
        "scaler = StandardScaler()\n",
        "X_train = scaler.fit_transform(X_train)\n",
        "X_test = scaler.transform(X_test)\n",
        "\n",
        "churn_classifier_lr = LogisticRegression(penalty='l2', C=1.0, solver='newton-cg', max_iter=1000)\n",
        "churn_classifier_lr.fit(X_train, y_train_flat)\n",
        "\n",
        "# Make predictions on the test set\n",
        "predictions_lr = churn_classifier_lr.predict(X_test)\n",
        "# Calculate accuracy\n",
        "accuracy_lr = accuracy_score(y_true=y_test, y_pred=predictions_lr)\n",
        "print(f'Logistic Regression Accuracy: {accuracy_lr:.2%}\\n')\n",
        "#Classification Report\n",
        "print(classification_report(y_test, predictions_lr))"
      ],
      "metadata": {
        "colab": {
          "base_uri": "https://localhost:8080/"
        },
        "id": "jieeLKFQAkKb",
        "outputId": "c9d78cf2-0f0b-4de6-e7da-f74642f49803"
      },
      "execution_count": null,
      "outputs": [
        {
          "output_type": "stream",
          "name": "stdout",
          "text": [
            "Logistic Regression Accuracy: 80.70%\n",
            "\n",
            "              precision    recall  f1-score   support\n",
            "\n",
            "           0       0.85      0.91      0.87      1723\n",
            "           1       0.66      0.52      0.58       598\n",
            "\n",
            "    accuracy                           0.81      2321\n",
            "   macro avg       0.75      0.71      0.73      2321\n",
            "weighted avg       0.80      0.81      0.80      2321\n",
            "\n"
          ]
        }
      ]
    },
    {
      "cell_type": "markdown",
      "source": [
        "###Confusion Matrix & Feature Importance\n",
        "Our accuracy has gone up to 80.70%, which is not very different from the base model (80.14%). But still it is an improvement. Let's now create the confusion matrix to see how the model predicts each class. This is an effective way of evaluating the performance of a classification algorithm. We can also plot the feature importance to understand which variables are important based on their contribution in predicting the class labels."
      ],
      "metadata": {
        "id": "V9fYNiXq0T8V"
      }
    },
    {
      "cell_type": "code",
      "source": [
        "# Create a confusion matrix\n",
        "conf_matrix_lr = confusion_matrix(y_true=y_test, y_pred=predictions_nb)\n",
        "\n",
        "#HeatMap of the confusion matrix\n",
        "\n",
        "# Create the heatmap with custom labels\n",
        "group_names = ['True Neg','False Pos','False Neg','True Pos']\n",
        "group_counts = [\"{0:0.0f}\".format(value) for value in\n",
        "                conf_matrix_lr.flatten()]\n",
        "\n",
        "labels = [f\"{v1}\\n\\n{v2}\" for v1, v2 in\n",
        "          zip(group_names,group_counts)]\n",
        "labels = np.asarray(labels).reshape(2,2)\n",
        "\n",
        "#Plot the heatmap\n",
        "sns.heatmap(conf_matrix_lr, annot=labels, annot_kws={\"fontsize\": 14},\n",
        "            fmt='', cmap='Blues', cbar=False, vmin=200,vmax=700)\n",
        "\n",
        "# Set x and y labels\n",
        "plt.xlabel('Predicted', fontsize=14)\n",
        "plt.ylabel('Actual', fontsize=14)\n",
        "\n",
        "# Show the plot\n",
        "plt.show()\n",
        "\n",
        "print('\\n\\nLogistic Regression Classification Report:\\n\\n',classification_report(y_test, predictions_lr))"
      ],
      "metadata": {
        "colab": {
          "base_uri": "https://localhost:8080/",
          "height": 680
        },
        "id": "BuygOydLem3b",
        "outputId": "ec5caf26-c76c-456a-ad9e-186a9173ba70"
      },
      "execution_count": null,
      "outputs": [
        {
          "output_type": "display_data",
          "data": {
            "text/plain": [
              "<Figure size 640x480 with 1 Axes>"
            ],
            "image/png": "[encoded data removed]"
          },
          "metadata": {}
        },
        {
          "output_type": "stream",
          "name": "stdout",
          "text": [
            "\n",
            "\n",
            "Logistic Regression Classification Report:\n",
            "\n",
            "               precision    recall  f1-score   support\n",
            "\n",
            "           0       0.85      0.91      0.87      1723\n",
            "           1       0.66      0.52      0.58       598\n",
            "\n",
            "    accuracy                           0.81      2321\n",
            "   macro avg       0.75      0.71      0.73      2321\n",
            "weighted avg       0.80      0.81      0.80      2321\n",
            "\n"
          ]
        }
      ]
    },
    {
      "cell_type": "markdown",
      "source": [
        "With an overall accuracy of 80.70%, the Logistic Regression model very accurately predicts the negative class which refers to the customers who remain with the telecom company. However, like other models earlier, the positive class (Churn) is predicted with a mediocre accuracy. There can be several reasons for that.\n",
        "* The overall distribution of Churn is around 3:1 where 75% of customers stay wiith the company while 25% decide to leave. This creates a lack of data relating to customers who actually churn. Therefore, the model has a weak performance in predicting churn.\n",
        "* The variables used to predict the churn are not very independent. For example, the online services used by the customers depend on the fact whether the customer uses internet service from the company or not. Also, the total charges depend upon the monthly charges and the tenure variables. This means that there are many features which are co-dependent or co-linear which creates a challenge for the Logistic Regression model as discussed in the assumptions above.\n",
        "* Moreover, the overall sample size of the dataset is not very large. A larger dataset would result in a better performance of the LR model.\n",
        "* There might be some outliers in the data which are not really outliers but due to their extreme values, they affect the performance of the model. For example, there are some customers who have been with the company for a very long time and their total charges and tenure values are very large but can not be categorised as extreme outliers."
      ],
      "metadata": {
        "id": "v24iaDgS0_c9"
      }
    },
    {
      "cell_type": "markdown",
      "source": [
        "Let's also have a look at the feature importance which indictaes which features have a higher impact on the prediction of the model. These features are potential factors to improve if the company wants to retain more customers. The company can also flag customers who are likely to churn based on these factors and offer them better deals to keep them."
      ],
      "metadata": {
        "id": "HOOoj7X4NN2-"
      }
    },
    {
      "cell_type": "code",
      "source": [
        "coefficients = churn_classifier_lr.coef_[0]\n",
        "\n",
        "feature_importance = pd.DataFrame({'Feature': X.columns, 'Importance': np.abs(coefficients)})\n",
        "feature_importance = feature_importance.sort_values('Importance', ascending=True)\n",
        "\n",
        "#plotting bar chart for feature importance\n",
        "ax = feature_importance.plot(x='Feature', y='Importance', kind='barh', figsize=(10, 6), color='teal')\n",
        "ax.set_title('Feature Importance')\n",
        "ax.legend(loc='lower center')  # Change the position of the legend\n",
        "\n",
        "plt.show()\n"
      ],
      "metadata": {
        "id": "iRLFe7hfBBEs",
        "outputId": "02116dc5-aff9-435c-ae54-ba1ec51411c9",
        "colab": {
          "base_uri": "https://localhost:8080/",
          "height": 545
        }
      },
      "execution_count": null,
      "outputs": [
        {
          "output_type": "display_data",
          "data": {
            "text/plain": [
              "<Figure size 1000x600 with 1 Axes>"
            ],
            "image/png": "[encoded data removed]"
          },
          "metadata": {}
        }
      ]
    },
    {
      "cell_type": "markdown",
      "source": [
        "The plot tells a very important story. It indicates that Monthly Charges, Total Charges and Contract type are important features to consider. Customers who exhibit a set pattern of these three variables combined have a higher chance of churn. The company can use this information to tailor their deals for such customers and review their contract types or payment plans etc.\n",
        "\n",
        "This chart is also intuitive if you think about it from a customer's perpspective. If you are paying a higher rate, and your contract type is monthly, you might be tempted to leave for a better offer elsewhere. Whereas, if you have a good deal with the existing company and your contract is yearly, you might decide to stay.\n",
        "\n",
        "Looking at this information, we can also state that the Logistic Regression model is using the right features to make reasonable predictions and the model can be trusted to forecast customer churn in the future."
      ],
      "metadata": {
        "id": "zShCnkkv1HZH"
      }
    },
    {
      "cell_type": "markdown",
      "source": [
        "##**Concluding Remarks**\n",
        "After importing, cleaning and performing exploratory data analysis, the customer churn dataset for a fictional telco company was used to train and implement various machine learning models to classify customer churn.\n",
        "\n",
        "All the implemented models such as Naive-Bayes, Decision Tree, Random Forest & Logistic Regression, offer reasonably good results; however, logistic regression classifier outperforms others with an accuracy of 80.70 %.\n",
        "\n",
        "Upon validation, all the models score relatively high for predicting customers who stay, while scoring low for predicting customers who leave the company. The reasons for this variation can be related to the facts that the sample size is not very large, the fraction of labels for churn in the data is very less (only 25% churn), the predictor variables are not highly independent of each other, and there might be certain outliers or extreme values affecting the predictions.\n",
        "\n",
        "To deal with such challenges, following measures can be undertaken:\n",
        "* A more thorough removal of outliers can be performed even at the cost of sample size\n",
        "* A larger dataset can be used to increase the sample size overall as well as increasing the churn label ratio\n",
        "* Certain feature engineering steps such as dimensionality reduction or principal component analysis can be performed to reduce redundant data and multicolinearlity of the features with respect to each other\n",
        "* Variables can be transformed to provide better information to the model such as normalization or standardization\n",
        "\n",
        "In short, it all boils down to the expertise in dealing with feature engineering and selection which drives the model performance. But above all, the root cause is the quality of the data itself. The healthier the data, the better the predictions."
      ],
      "metadata": {
        "id": "PpZHaCa71JlT"
      }
    },
    {
      "cell_type": "markdown",
      "source": [
        "##**References**\n",
        "* Amaresan, S. (2021) What is customer churn? [definition], HubSpot Blog. Available at: https://blog.hubspot.com/service/what-is-customer-churn (Accessed: 02 January 2024).\n",
        "* Bento, C. (2021) Decision tree classifier explained in real-life: Picking a vacation destination, Medium. Available at: https://towardsdatascience.com/decision-tree-classifier-explained-in-real-life-picking-a-vacation-destination-6226b2b60575 (Accessed: 03 January 2024).\n",
        "* Brown, S. (2021) Machine Learning, explained, MIT Sloan. Available at: https://mitsloan.mit.edu/ideas-made-to-matter/machine-learning-explained (Accessed: 03 January 2024).\n",
        "* Brownlee, J. (2020) 4 types of classification tasks in machine learning, MachineLearningMastery.com. Available at: https://machinelearningmastery.com/types-of-classification-in-machine-learning/ (Accessed: 03 January 2024).\n",
        "* Martins, C. (2023) Gaussian naive Bayes explained with Scikit-Learn, Built In. Available at: https://builtin.com/artificial-intelligence/gaussian-naive-bayes (Accessed: 03 January 2024).\n",
        "* Meltzer, R. (2023) What is Random Forest?, CareerFoundry. Available at: https://careerfoundry.com/en/blog/data-analytics/what-is-random-forest/ (Accessed: 03 January 2024).\n",
        "* Kanade, V. (2022) Logistic regression: Equation, assumptions, types, and best practices, Spiceworks. Available at: https://www.spiceworks.com/tech/artificial-intelligence/articles/what-is-logistic-regression/ (Accessed: 03 January 2024)."
      ],
      "metadata": {
        "id": "4blCSccDgzEF"
      }
    }
  ]
}